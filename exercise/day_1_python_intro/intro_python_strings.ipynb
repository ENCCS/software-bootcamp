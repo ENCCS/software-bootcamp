{
 "cells": [
  {
   "cell_type": "markdown",
   "id": "612b925c",
   "metadata": {},
   "source": [
    "# Introduction to Python --- Strings"
   ]
  },
  {
   "cell_type": "code",
   "execution_count": 55,
   "id": "fdd71a4d",
   "metadata": {},
   "outputs": [
    {
     "name": "stdout",
     "output_type": "stream",
     "text": [
      "hello python!\n"
     ]
    }
   ],
   "source": [
    "str_a = \"hello python!\"\n",
    "print(str_a)"
   ]
  },
  {
   "cell_type": "code",
   "execution_count": 56,
   "id": "dad5c446",
   "metadata": {},
   "outputs": [
    {
     "name": "stdout",
     "output_type": "stream",
     "text": [
      "hello python!!\n"
     ]
    }
   ],
   "source": [
    "str_b, str_c = 'hello', \" python!!\"\n",
    "str_d = str_b + str_c\n",
    "print(str_d)"
   ]
  },
  {
   "cell_type": "code",
   "execution_count": 57,
   "id": "f63e4611",
   "metadata": {},
   "outputs": [
    {
     "name": "stdout",
     "output_type": "stream",
     "text": [
      "hello python!!!\n"
     ]
    }
   ],
   "source": [
    "str_d = \"hello\" + \"\"\" python!!!\"\"\"\n",
    "print(str_d)"
   ]
  },
  {
   "cell_type": "code",
   "execution_count": 58,
   "id": "a54205b5",
   "metadata": {},
   "outputs": [
    {
     "name": "stdout",
     "output_type": "stream",
     "text": [
      "hello python!hello python!hello python!\n"
     ]
    }
   ],
   "source": [
    "str_e = str_a * 3\n",
    "print(str_e)"
   ]
  },
  {
   "cell_type": "code",
   "execution_count": 59,
   "id": "1669b88f",
   "metadata": {},
   "outputs": [
    {
     "name": "stdout",
     "output_type": "stream",
     "text": [
      "hello \n",
      " python!!! \n",
      " we are \t here !!!\n"
     ]
    }
   ],
   "source": [
    "str_f = \"hello \\n python!!! \\n we are \\t here !!!\"\n",
    "print(str_f)"
   ]
  },
  {
   "cell_type": "code",
   "execution_count": 60,
   "id": "c7254695",
   "metadata": {},
   "outputs": [
    {
     "name": "stdout",
     "output_type": "stream",
     "text": [
      "True\n",
      "False\n",
      "False\n"
     ]
    }
   ],
   "source": [
    "# `in` and `not in`\n",
    "\n",
    "print('hello' in str_a)\n",
    "print('world' in str_d)\n",
    "print('python' not in str_f)"
   ]
  },
  {
   "cell_type": "code",
   "execution_count": 61,
   "id": "037c3f2e",
   "metadata": {},
   "outputs": [
    {
     "name": "stdout",
     "output_type": "stream",
     "text": [
      "13\n",
      "h\n",
      "!\n",
      "!\n"
     ]
    }
   ],
   "source": [
    "# indexing\n",
    "\n",
    "print(len(str_a)) # length of the string\n",
    "\n",
    "print(str_a[0])\n",
    "print(str_a[12])\n",
    "# print(str_a[13]) # IndexError: string index out of range\n",
    "print(str_a[-1])"
   ]
  },
  {
   "cell_type": "code",
   "execution_count": 62,
   "id": "a3a2b067",
   "metadata": {},
   "outputs": [
    {
     "name": "stdout",
     "output_type": "stream",
     "text": [
      "hell\n",
      "lo py\n",
      "lo python\n",
      "lo python\n",
      "lo python!\n",
      "lo python!\n",
      "lo python!\n",
      "pytho\n"
     ]
    }
   ],
   "source": [
    "# slicing\n",
    "\n",
    "print(str_a[0:4])\n",
    "print(str_a[3:8])\n",
    "print(str_a[3:12])\n",
    "print(str_a[3:-1])\n",
    "print(str_a[3:13])\n",
    "print(str_a[3:100])\n",
    "print(str_a[3:])\n",
    "#\n",
    "print(str_a[-7:-2])"
   ]
  },
  {
   "cell_type": "code",
   "execution_count": 63,
   "id": "032812cc",
   "metadata": {},
   "outputs": [
    {
     "name": "stdout",
     "output_type": "stream",
     "text": [
      "ello pyth\n",
      "el yh\n",
      "eoy\n"
     ]
    }
   ],
   "source": [
    "print(str_a[1:10])\n",
    "print(str_a[1:10:2])\n",
    "print(str_a[1:10:3])"
   ]
  },
  {
   "cell_type": "code",
   "execution_count": 64,
   "id": "bd950909",
   "metadata": {},
   "outputs": [
    {
     "name": "stdout",
     "output_type": "stream",
     "text": [
      "y\n",
      "121\n",
      "x\n",
      "y\n",
      " \n",
      "32\n"
     ]
    }
   ],
   "source": [
    "char = str_a[7]\n",
    "print(char) # `y`\n",
    "print(ord(char)) \n",
    "print(chr(120))\n",
    "print(max(str_a)) # the ASCII value of each char\n",
    "print(min(str_a)) # the output is a `space` character and its ASCII value is `32`\n",
    "print(ord(min(str_a))) # 32\n",
    "\n",
    "# check this webpage for detailed ASCII values `https://python-reference.readthedocs.io/en/latest/docs/str/ASCII.html"
   ]
  },
  {
   "cell_type": "code",
   "execution_count": 65,
   "id": "e73f322c",
   "metadata": {},
   "outputs": [
    {
     "name": "stdout",
     "output_type": "stream",
     "text": [
      "hello python!\n",
      "python!\n"
     ]
    }
   ],
   "source": [
    "print(str_a)\n",
    "print(str_a[6:])\n",
    "\n",
    "# replace `python` with `world`?\n",
    "# str_a[6:] = \"world\" # gets an `TypeError` as string is immutable !!\n",
    "\n",
    "# other options to replace characters/strings in the string\n",
    "# 1. using the `replace` or `translate` method\n",
    "# 2. using `list`: you can first transform the string to a list, do the manipulcation in the list, and then transform the list to a new string"
   ]
  },
  {
   "cell_type": "code",
   "execution_count": 66,
   "id": "24a17567",
   "metadata": {},
   "outputs": [
    {
     "name": "stdout",
     "output_type": "stream",
     "text": [
      "h\n",
      "e\n",
      "l\n",
      "l\n",
      "o\n",
      " \n",
      "p\n",
      "y\n",
      "t\n",
      "h\n",
      "o\n",
      "n\n",
      "!\n"
     ]
    }
   ],
   "source": [
    "# to get all items in this string\n",
    "for ichar in str_a:\n",
    "    print(ichar)"
   ]
  },
  {
   "cell_type": "code",
   "execution_count": 67,
   "id": "56e3dc47",
   "metadata": {},
   "outputs": [
    {
     "name": "stdout",
     "output_type": "stream",
     "text": [
      "h\n",
      "e\n",
      "l\n",
      "l\n",
      "o\n",
      " \n",
      "p\n",
      "y\n",
      "t\n",
      "h\n",
      "o\n",
      "n\n"
     ]
    }
   ],
   "source": [
    "length = len(str_a)\n",
    "for ix in range(0, length-1):\n",
    "    print(str_a[ix])"
   ]
  },
  {
   "cell_type": "code",
   "execution_count": 68,
   "id": "f5695cfc",
   "metadata": {},
   "outputs": [
    {
     "name": "stdout",
     "output_type": "stream",
     "text": [
      "<enumerate object at 0x1044da900>\n",
      "index=0, item=h\n",
      "index=1, item=e\n",
      "index=2, item=l\n",
      "index=3, item=l\n",
      "index=4, item=o\n",
      "index=5, item= \n",
      "index=6, item=p\n",
      "index=7, item=y\n",
      "index=8, item=t\n",
      "index=9, item=h\n",
      "index=10, item=o\n",
      "index=11, item=n\n",
      "index=12, item=!\n"
     ]
    }
   ],
   "source": [
    "# how to get all items and their indexes in the list? --- using `enumerate`\n",
    "\n",
    "print(enumerate(str_a)) # output is an `enumerate object`\n",
    "for idx, item in enumerate(str_a):\n",
    "    print(f\"index={idx}, item={item}\")"
   ]
  },
  {
   "cell_type": "code",
   "execution_count": 69,
   "id": "a1abbff0",
   "metadata": {},
   "outputs": [
    {
     "name": "stdout",
     "output_type": "stream",
     "text": [
      "[(0, 'h'), (1, 'e'), (2, 'l'), (3, 'l'), (4, 'o'), (5, ' '), (6, 'p'), (7, 'y'), (8, 't'), (9, 'h'), (10, 'o'), (11, 'n'), (12, '!')]\n",
      "((0, 'h'), (1, 'e'), (2, 'l'), (3, 'l'), (4, 'o'), (5, ' '), (6, 'p'), (7, 'y'), (8, 't'), (9, 'h'), (10, 'o'), (11, 'n'), (12, '!'))\n"
     ]
    }
   ],
   "source": [
    "print(list(enumerate(str_a))) # output is a list\n",
    "print(tuple(enumerate(str_a))) # output is a tuple"
   ]
  },
  {
   "cell_type": "markdown",
   "id": "692053b3",
   "metadata": {},
   "source": [
    "## Methods for Strings"
   ]
  },
  {
   "cell_type": "code",
   "execution_count": 70,
   "id": "cbc6e13a",
   "metadata": {},
   "outputs": [
    {
     "name": "stdout",
     "output_type": "stream",
     "text": [
      "hElLo PyThon!\n",
      "hello python!\n",
      "HELLO PYTHON!\n",
      "HeLlO pYtHON!\n",
      "Hello Python!\n",
      "Hello python!\n"
     ]
    }
   ],
   "source": [
    "str_a = \"hElLo PyThon!\"\n",
    "print(str_a)\n",
    "print(str_a.lower())\n",
    "print(str_a.upper())\n",
    "print(str_a.swapcase())\n",
    "print(str_a.title())\n",
    "print(str_a.capitalize())"
   ]
  },
  {
   "cell_type": "code",
   "execution_count": 71,
   "id": "a4e0f2b3",
   "metadata": {},
   "outputs": [
    {
     "name": "stdout",
     "output_type": "stream",
     "text": [
      "True\n",
      "False\n",
      "False\n",
      "hElL\n",
      "True\n"
     ]
    }
   ],
   "source": [
    "str_a = \"hElLo PyThon!\"\n",
    "print(str_a.startswith('h'))\n",
    "print(str_a.endswith('X'))\n",
    "print(str_a.isdigit())\n",
    "\n",
    "print(str_a[0:4])\n",
    "print(str_a[0:4].isalpha())"
   ]
  },
  {
   "cell_type": "code",
   "execution_count": 72,
   "id": "9d4c17e8",
   "metadata": {},
   "outputs": [
    {
     "name": "stdout",
     "output_type": "stream",
     "text": [
      "6\n",
      "1\n",
      "False\n"
     ]
    }
   ],
   "source": [
    "str_a = 'hello world Hello Python'\n",
    "print(str_a.index('world'))\n",
    "print(str_a.index('ello'))\n",
    "# print(str_a.index('ello', 4, 11)) # get an exception `ValueError`\n",
    "# it is better to check if `ello` is available in str_a[4:11] using `in` or `find`\n",
    "print('ello' in str_a[4:11])"
   ]
  },
  {
   "cell_type": "code",
   "execution_count": 73,
   "id": "a2390805",
   "metadata": {},
   "outputs": [
    {
     "name": "stdout",
     "output_type": "stream",
     "text": [
      "6\n",
      "1\n",
      "13\n",
      "13\n",
      "-1\n"
     ]
    }
   ],
   "source": [
    "print(str_a.find('world'))\n",
    "print(str_a.find('ello'))\n",
    "print(str_a.rfind('ello'))\n",
    "print(str_a.find('ello', 4))\n",
    "print(str_a.find('ello', 4, 11)) # output is `-1`, which means there is no `ello' in str_a[4:11]"
   ]
  },
  {
   "cell_type": "code",
   "execution_count": 74,
   "id": "bd7c1918",
   "metadata": {},
   "outputs": [
    {
     "name": "stdout",
     "output_type": "stream",
     "text": [
      "hello python1 hello python2 hello python3\n",
      "hello world1 hello world2 hello world3\n",
      "hello julia1 hello julia2 hello world3\n",
      "\n",
      "hello python1 hello python2 hello python3\n",
      "1ell2 p3t1241 1ell2 p3t1242 1ell2 p3t1243\n",
      "\n",
      "hello C and Julia!!\n",
      "hello python1 hello python2 hello python3\n"
     ]
    }
   ],
   "source": [
    "# replace characters/strings in the string\n",
    "\n",
    "# 1. using the `replace` method\n",
    "str_a = \"hello python1 hello python2 hello python3\"\n",
    "print(str_a)\n",
    "str_b = str_a.replace('python', 'world')\n",
    "print(str_b)\n",
    "str_c = str_b.replace('world', 'julia', 2)\n",
    "print(str_c)\n",
    "print()\n",
    "\n",
    "# 2. using the `translate` method\n",
    "intab = 'hoynx' # replace `h` with `1`, `o` with `2`, `y` with `3` ...\n",
    "outtab = '12345'\n",
    "mytable = str_a.maketrans(intab, outtab)\n",
    "print(str_a)\n",
    "print(str_a.translate(mytable))\n",
    "print()\n",
    "\n",
    "# 3. using `list`: you can first transform the string to a list, do the manipulcation in the list, and then transform the list to a new string\n",
    "str_w = list(str_a)\n",
    "str_w[6:] = 'C and Julia!!'\n",
    "str_a_update = ''.join(str_w)\n",
    "print(str_a_update)\n",
    "print(str_a)"
   ]
  },
  {
   "cell_type": "code",
   "execution_count": 75,
   "id": "2f03117b",
   "metadata": {},
   "outputs": [
    {
     "name": "stdout",
     "output_type": "stream",
     "text": [
      "||hello   python   and    fortran||\n",
      "||hello   python   and    fortran     ||\n",
      "||   hello   python   and    fortran||\n",
      "\n",
      "$$  hello  - python --  and --  fortran    $$\n"
     ]
    }
   ],
   "source": [
    "# strip//lstrip/rstrip methods\n",
    "\n",
    "str_a = '   hello   python   and    fortran     '\n",
    "str_b = str_a.strip()\n",
    "print('||' + str_b + '||')\n",
    "str_c = str_a.lstrip()\n",
    "print('||' + str_c + '||')\n",
    "str_d = str_a.rstrip()\n",
    "print('||' + str_d + '||')\n",
    "print()\n",
    "\n",
    "str_e = '----  hello  - python --  and --  fortran    ----'\n",
    "str_f = str_e.strip('-')\n",
    "print(\"$$\" + str_f + '$$')"
   ]
  },
  {
   "cell_type": "code",
   "execution_count": 76,
   "id": "b5920f83",
   "metadata": {},
   "outputs": [
    {
     "name": "stdout",
     "output_type": "stream",
     "text": [
      "['hello', 'python', 'and', 'fortran']\n",
      "['   hell', '   pyth', 'n   and    f', 'rtran     ']\n",
      "['   hell', '   pyth', 'n   and    fortran     ']\n"
     ]
    }
   ],
   "source": [
    "# split() and join() methods\n",
    "\n",
    "str_a = '   hello   python   and    fortran     '\n",
    "str_b = str_a.split() \n",
    "print(str_b) # output is a list\n",
    "str_c = str_a.split('o')\n",
    "print(str_c)\n",
    "str_d = str_a.split('o', 2)\n",
    "print(str_d)"
   ]
  },
  {
   "cell_type": "code",
   "execution_count": 77,
   "id": "f026146e",
   "metadata": {},
   "outputs": [
    {
     "name": "stdout",
     "output_type": "stream",
     "text": [
      "hellopythonandfortran\n",
      "hello python and fortran\n",
      "hello/python/and/fortran\n",
      "\n",
      "/Users/username/bootcamp/python/01_intro.txt\n"
     ]
    }
   ],
   "source": [
    "str_b2 = ''.join(str_b)\n",
    "print(str_b2)\n",
    "str_b3 = ' '.join(str_b)\n",
    "print(str_b3)\n",
    "str_b3 = '/'.join(str_b)\n",
    "print(str_b3)\n",
    "print()\n",
    "\n",
    "str_dirs = '', 'Users', 'username', 'bootcamp', 'python', '01_intro.txt'\n",
    "mac_path = '/'.join(str_dirs)\n",
    "print(mac_path)"
   ]
  },
  {
   "cell_type": "markdown",
   "id": "533657de",
   "metadata": {},
   "source": [
    "## Output format"
   ]
  },
  {
   "cell_type": "code",
   "execution_count": 78,
   "id": "2a7925f7",
   "metadata": {},
   "outputs": [
    {
     "name": "stdout",
     "output_type": "stream",
     "text": [
      "|       PythoN       |\n",
      "|****** PythoN ******|\n",
      "| PythoN             |\n",
      "| PythoN ************|\n",
      "|             PythoN |\n",
      "|************ PythoN |\n",
      "|000000000000 PythoN |\n"
     ]
    }
   ],
   "source": [
    "# using methods\n",
    "\n",
    "str_a = \" PythoN \"\n",
    "print('|' + str_a.center(20) + '|')\n",
    "print('|' + str_a.center(20, '*') + '|')\n",
    "print('|' + str_a.ljust(20) + '|')\n",
    "print('|' + str_a.ljust(20, '*') + '|')\n",
    "print('|' + str_a.rjust(20) + '|')\n",
    "print('|' + str_a.rjust(20, '*') + '|')\n",
    "print('|' + str_a.zfill(20) + '|')"
   ]
  },
  {
   "cell_type": "code",
   "execution_count": 79,
   "id": "0cb30c92",
   "metadata": {},
   "outputs": [
    {
     "name": "stdout",
     "output_type": "stream",
     "text": [
      " PythoN             \n",
      "             PythoN \n",
      "\n",
      "We are using python for machine learning project\n",
      "We are using python for machine learning project\n",
      "We are using Python for Machine Learning project\n",
      "We are using Machine Learning for Python project !!!\n",
      "\n",
      "We are using C for MaterModelling project\n",
      "\n",
      "We are using Fortran for HPC project\n"
     ]
    }
   ],
   "source": [
    "# using `format` function\n",
    "\n",
    "print(format(str_a, '<20s'))\n",
    "print(format(str_a, '>20s'))\n",
    "print()\n",
    "\n",
    "# using `format` and index\n",
    "\n",
    "lang = 'python'\n",
    "proj = 'machine learning'\n",
    "print(\"We are using {} for {} project\".format(lang, proj))\n",
    "print(\"We are using {0} for {1} project\".format(lang, proj))\n",
    "print(\"We are using {0} for {1} project\".format(lang.capitalize(), proj.title()))\n",
    "print(\"We are using {1} for {0} project !!!\".format(lang.capitalize(), proj.title()))\n",
    "print()\n",
    "\n",
    "print(\"We are using {lang} for {proj} project\".format(lang='C', proj='MaterModelling'))\n",
    "print()\n",
    "\n",
    "# using `%`\n",
    "print(\"We are using %s for %s project\" % ('Fortran', 'HPC'))"
   ]
  },
  {
   "cell_type": "code",
   "execution_count": 80,
   "id": "febad45d",
   "metadata": {},
   "outputs": [
    {
     "name": "stdout",
     "output_type": "stream",
     "text": [
      "We are using python for machine learning project\n",
      "\n",
      "We are using Python for ProjA project\n",
      "We are using Fortran for ProjB project\n",
      "We are using C for ProjC project\n",
      "We are using Julia for ProjD project\n",
      "We are using Java for ProjE project\n"
     ]
    }
   ],
   "source": [
    "# using `f-string` format after Python 3.6\n",
    "\n",
    "lang = 'python'\n",
    "proj = 'machine learning'\n",
    "print(f\"We are using {lang} for {proj} project\\n\")\n",
    "\n",
    "langs = ['Python', 'Fortran', 'C', 'Julia', 'Java'] # this is a list\n",
    "projs = ('ProjA', 'ProjB', 'ProjC', 'ProjD', 'ProjE') # this is a tuple\n",
    "for lang, proj in zip(langs, projs):\n",
    "    print(f\"We are using {lang} for {proj} project\")"
   ]
  },
  {
   "cell_type": "code",
   "execution_count": null,
   "id": "05261eee",
   "metadata": {},
   "outputs": [],
   "source": []
  }
 ],
 "metadata": {
  "kernelspec": {
   "display_name": "Python 3 (ipykernel)",
   "language": "python",
   "name": "python3"
  },
  "language_info": {
   "codemirror_mode": {
    "name": "ipython",
    "version": 3
   },
   "file_extension": ".py",
   "mimetype": "text/x-python",
   "name": "python",
   "nbconvert_exporter": "python",
   "pygments_lexer": "ipython3",
   "version": "3.10.9"
  }
 },
 "nbformat": 4,
 "nbformat_minor": 5
}
