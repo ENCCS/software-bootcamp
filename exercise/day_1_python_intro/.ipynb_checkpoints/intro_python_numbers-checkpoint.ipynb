{
 "cells": [
  {
   "cell_type": "markdown",
   "id": "d1f5951b",
   "metadata": {},
   "source": [
    "# Introduction to Python --- Numbers"
   ]
  },
  {
   "cell_type": "markdown",
   "id": "5a821476",
   "metadata": {},
   "source": [
    "## Integers"
   ]
  },
  {
   "cell_type": "code",
   "execution_count": 29,
   "id": "3d12773a",
   "metadata": {},
   "outputs": [
    {
     "name": "stdout",
     "output_type": "stream",
     "text": [
      "hello, python-1\n",
      "hello, python-2\n",
      "hello \n",
      "python-3\n"
     ]
    }
   ],
   "source": [
    "print('hello, python-1')\n",
    "print(\"hello, python-2\")\n",
    "print(\"\"\"hello \n",
    "python-3\"\"\")"
   ]
  },
  {
   "cell_type": "code",
   "execution_count": 30,
   "id": "4716e22b",
   "metadata": {},
   "outputs": [
    {
     "name": "stdout",
     "output_type": "stream",
     "text": [
      "100\n",
      "<class 'int'>\n"
     ]
    }
   ],
   "source": [
    "a = 100\n",
    "print(a)\n",
    "print(type(a))"
   ]
  },
  {
   "cell_type": "code",
   "execution_count": 31,
   "id": "e21d0cfe",
   "metadata": {},
   "outputs": [
    {
     "data": {
      "text/plain": [
       "128"
      ]
     },
     "execution_count": 31,
     "metadata": {},
     "output_type": "execute_result"
    }
   ],
   "source": [
    "b = 28\n",
    "a + b"
   ]
  },
  {
   "cell_type": "code",
   "execution_count": 32,
   "id": "97334ab0",
   "metadata": {},
   "outputs": [
    {
     "data": {
      "text/plain": [
       "72"
      ]
     },
     "execution_count": 32,
     "metadata": {},
     "output_type": "execute_result"
    }
   ],
   "source": [
    "a + b; a - b"
   ]
  },
  {
   "cell_type": "code",
   "execution_count": 33,
   "id": "ab9308cc",
   "metadata": {},
   "outputs": [
    {
     "name": "stdout",
     "output_type": "stream",
     "text": [
      "128\n",
      "72\n",
      "2800\n"
     ]
    }
   ],
   "source": [
    "print(a+b)\n",
    "print(a-b)\n",
    "print(a*b)"
   ]
  },
  {
   "cell_type": "code",
   "execution_count": 34,
   "id": "c6943de1",
   "metadata": {},
   "outputs": [
    {
     "name": "stdout",
     "output_type": "stream",
     "text": [
      "128 72 2800 3.5714285714285716 3\n"
     ]
    }
   ],
   "source": [
    "print(a+b, a-b, a*b, a/b, a//b)"
   ]
  },
  {
   "cell_type": "code",
   "execution_count": 35,
   "id": "666c347b",
   "metadata": {},
   "outputs": [
    {
     "name": "stdout",
     "output_type": "stream",
     "text": [
      "12 12 12\n",
      "True\n"
     ]
    }
   ],
   "source": [
    "a = b = c = 12\n",
    "print(a, b, c)\n",
    "print(a == b)"
   ]
  },
  {
   "cell_type": "code",
   "execution_count": 36,
   "id": "3537bc47",
   "metadata": {},
   "outputs": [
    {
     "name": "stdout",
     "output_type": "stream",
     "text": [
      "12 23\n",
      "23 12\n",
      "False\n"
     ]
    }
   ],
   "source": [
    "a, b = 12, 23\n",
    "print(a, b)\n",
    "a, b = b, a\n",
    "print(a, b)\n",
    "print(a == b)"
   ]
  },
  {
   "cell_type": "code",
   "execution_count": 37,
   "id": "5733f1ce",
   "metadata": {
    "scrolled": false
   },
   "outputs": [
    {
     "name": "stdout",
     "output_type": "stream",
     "text": [
      "0b10111 0o27 0x17\n",
      "<class 'str'> <class 'str'> <class 'str'>\n"
     ]
    }
   ],
   "source": [
    "print(bin(a), oct(a), hex(a)) # output are \"string\"s\n",
    "print(type(bin(a)), type(oct(a)), type(hex(a)))"
   ]
  },
  {
   "cell_type": "markdown",
   "id": "ec0163a2",
   "metadata": {},
   "source": [
    "## Boolean"
   ]
  },
  {
   "cell_type": "code",
   "execution_count": 38,
   "id": "a3045265",
   "metadata": {},
   "outputs": [
    {
     "name": "stdout",
     "output_type": "stream",
     "text": [
      "True\n",
      "<class 'bool'>\n"
     ]
    }
   ],
   "source": [
    "a = True\n",
    "print(a)\n",
    "print(type(a))"
   ]
  },
  {
   "cell_type": "code",
   "execution_count": 39,
   "id": "375b474b",
   "metadata": {},
   "outputs": [
    {
     "name": "stdout",
     "output_type": "stream",
     "text": [
      "False\n",
      "<class 'bool'>\n"
     ]
    }
   ],
   "source": [
    "b = False\n",
    "print(b)\n",
    "print(type(b))"
   ]
  },
  {
   "cell_type": "code",
   "execution_count": 40,
   "id": "798d3e36",
   "metadata": {},
   "outputs": [
    {
     "name": "stdout",
     "output_type": "stream",
     "text": [
      "True\n",
      "False\n"
     ]
    }
   ],
   "source": [
    "print(a == 1)\n",
    "print(a == 2)"
   ]
  },
  {
   "cell_type": "code",
   "execution_count": 41,
   "id": "34a82f15",
   "metadata": {},
   "outputs": [
    {
     "name": "stdout",
     "output_type": "stream",
     "text": [
      "True\n",
      "False\n"
     ]
    }
   ],
   "source": [
    "print(b == 0)\n",
    "print(b == 1)"
   ]
  },
  {
   "cell_type": "markdown",
   "id": "b9d33ee7",
   "metadata": {},
   "source": [
    "## Float numbers"
   ]
  },
  {
   "cell_type": "code",
   "execution_count": 42,
   "id": "b00f5ab5",
   "metadata": {},
   "outputs": [
    {
     "name": "stdout",
     "output_type": "stream",
     "text": [
      "14.0 8.0 33.0 3.6666666666666665 3.0\n"
     ]
    }
   ],
   "source": [
    "a, b = 11.0, 3.0\n",
    "print(a+b, a-b, a*b, a/b, a//b)"
   ]
  },
  {
   "cell_type": "code",
   "execution_count": 43,
   "id": "ec5d24ea",
   "metadata": {},
   "outputs": [
    {
     "name": "stdout",
     "output_type": "stream",
     "text": [
      "(14.0, 8.0, 33.0, 3.6666666666666665, 3.0)\n",
      "<class 'tuple'>\n"
     ]
    }
   ],
   "source": [
    "ab = a+b, a-b, a*b, a/b, a//b\n",
    "print(ab)\n",
    "print(type(ab))"
   ]
  },
  {
   "cell_type": "code",
   "execution_count": 44,
   "id": "af816474",
   "metadata": {},
   "outputs": [
    {
     "name": "stdout",
     "output_type": "stream",
     "text": [
      "3.0 2.0\n",
      "3.0 2.0\n"
     ]
    }
   ],
   "source": [
    "c, d = divmod(a, b) # c = a//b, d = a%d\n",
    "print(c, d)\n",
    "c = divmod(a, b) # now `c` is a tuple with two elements\n",
    "print(c[0], c[1])"
   ]
  },
  {
   "cell_type": "code",
   "execution_count": 45,
   "id": "f15f1abd",
   "metadata": {
    "scrolled": true
   },
   "outputs": [
    {
     "name": "stdout",
     "output_type": "stream",
     "text": [
      "3.3000000000000003\n",
      "False\n"
     ]
    }
   ],
   "source": [
    "a, b = 1.1, 2.2\n",
    "c = 3.3\n",
    "print(a + b)\n",
    "print((a + b) == c) ## outout is `False` becaose of precision"
   ]
  },
  {
   "cell_type": "code",
   "execution_count": 46,
   "id": "69a2ce4a",
   "metadata": {},
   "outputs": [
    {
     "data": {
      "text/plain": [
       "True"
      ]
     },
     "execution_count": 46,
     "metadata": {},
     "output_type": "execute_result"
    }
   ],
   "source": [
    "import math\n",
    "math.isclose(a+b, c) # using `isclose` for comparison"
   ]
  },
  {
   "cell_type": "code",
   "execution_count": 47,
   "id": "87e72c6f",
   "metadata": {
    "scrolled": true
   },
   "outputs": [
    {
     "name": "stdout",
     "output_type": "stream",
     "text": [
      "11.0 11\n",
      "23 23.0\n"
     ]
    }
   ],
   "source": [
    "a, b = 11.0, 23\n",
    "print(a, int(a))\n",
    "print(b, float(b))"
   ]
  },
  {
   "cell_type": "code",
   "execution_count": 48,
   "id": "cf7cccd9",
   "metadata": {},
   "outputs": [
    {
     "name": "stdout",
     "output_type": "stream",
     "text": [
      "3.3333333333333335\n"
     ]
    },
    {
     "data": {
      "text/plain": [
       "Decimal('3.333333333333333481363069950020872056484222412109375')"
      ]
     },
     "execution_count": 48,
     "metadata": {},
     "output_type": "execute_result"
    }
   ],
   "source": [
    "# You can use the module `Decimal` to get more accurate values\n",
    "\n",
    "print(10/3)\n",
    "\n",
    "import decimal\n",
    "decimal.Decimal(10/3)"
   ]
  },
  {
   "cell_type": "code",
   "execution_count": 49,
   "id": "616718eb",
   "metadata": {},
   "outputs": [
    {
     "name": "stdout",
     "output_type": "stream",
     "text": [
      "  3.333333\n",
      "    3.3333\n",
      "00003.3333\n",
      "3.3333\n",
      "3.333     \n"
     ]
    }
   ],
   "source": [
    "a = 10/3\n",
    "print ('%10f'    % a)\n",
    "print ('%10.4f'  % a)\n",
    "print ('%010.4f' % a)\n",
    "print ('%.4f'    % a)\n",
    "print ('%-10.3f' % a)"
   ]
  },
  {
   "cell_type": "markdown",
   "id": "54ddcd23",
   "metadata": {},
   "source": [
    "## Complex numbers"
   ]
  },
  {
   "cell_type": "code",
   "execution_count": 50,
   "id": "9aa1a4be",
   "metadata": {},
   "outputs": [
    {
     "name": "stdout",
     "output_type": "stream",
     "text": [
      "(11+23j)\n",
      "<class 'complex'>\n"
     ]
    }
   ],
   "source": [
    "c = 11.0 + 23j\n",
    "print(c)\n",
    "print(type(c))"
   ]
  },
  {
   "cell_type": "code",
   "execution_count": 51,
   "id": "cf6f3e9d",
   "metadata": {},
   "outputs": [
    {
     "name": "stdout",
     "output_type": "stream",
     "text": [
      "(11+23j)\n"
     ]
    }
   ],
   "source": [
    "a, b = 11.0, 23\n",
    "c = complex(a, b)\n",
    "print(c)"
   ]
  },
  {
   "cell_type": "code",
   "execution_count": 52,
   "id": "99e4579e",
   "metadata": {},
   "outputs": [
    {
     "name": "stdout",
     "output_type": "stream",
     "text": [
      "(3.6666666666666665+11.5j) (5.5+7.666666666666667j)\n"
     ]
    }
   ],
   "source": [
    "c1 = complex(a/3.0, b/2.0)\n",
    "c2 = complex(a/2.0, b/3.0)\n",
    "print(c1, c2)"
   ]
  },
  {
   "cell_type": "code",
   "execution_count": 53,
   "id": "7b4321c8",
   "metadata": {},
   "outputs": [
    {
     "name": "stdout",
     "output_type": "stream",
     "text": [
      "(9.166666666666666+19.166666666666668j)\n",
      "(-1.8333333333333335+3.833333333333333j)\n",
      "(-68+91.36111111111111j)\n",
      "(1.2168486739469577+0.3946957878315132j)\n"
     ]
    }
   ],
   "source": [
    "print(c1+c2)\n",
    "print(c1-c2)\n",
    "print(c1*c2)\n",
    "print(c1/c2)\n",
    "# print(c1//c2) get an error `TypeError: unsupported ...`"
   ]
  },
  {
   "cell_type": "code",
   "execution_count": 54,
   "id": "673a4ac3",
   "metadata": {},
   "outputs": [
    {
     "name": "stdout",
     "output_type": "stream",
     "text": [
      "(-4+17j)\n"
     ]
    }
   ],
   "source": [
    "c1c2 = complex(c1, c2)\n",
    "print(c1c2)"
   ]
  },
  {
   "cell_type": "code",
   "execution_count": 55,
   "id": "5e256e32",
   "metadata": {},
   "outputs": [
    {
     "name": "stdout",
     "output_type": "stream",
     "text": [
      "(12+5j)\n"
     ]
    }
   ],
   "source": [
    "c3 = complex('12+5j') # OK\n",
    "print(c3)"
   ]
  },
  {
   "cell_type": "code",
   "execution_count": 56,
   "id": "e7107191",
   "metadata": {},
   "outputs": [],
   "source": [
    "# c4 = complex('12 + 5j') # ValueError"
   ]
  },
  {
   "cell_type": "code",
   "execution_count": null,
   "id": "5ee992e5",
   "metadata": {},
   "outputs": [],
   "source": []
  }
 ],
 "metadata": {
  "kernelspec": {
   "display_name": "Python 3 (ipykernel)",
   "language": "python",
   "name": "python3"
  },
  "language_info": {
   "codemirror_mode": {
    "name": "ipython",
    "version": 3
   },
   "file_extension": ".py",
   "mimetype": "text/x-python",
   "name": "python",
   "nbconvert_exporter": "python",
   "pygments_lexer": "ipython3",
   "version": "3.10.9"
  }
 },
 "nbformat": 4,
 "nbformat_minor": 5
}
