{
 "cells": [
  {
   "cell_type": "markdown",
   "id": "61b4d76a",
   "metadata": {},
   "source": [
    "# Introduction to Python --- Functions"
   ]
  },
  {
   "cell_type": "markdown",
   "id": "e00b7642",
   "metadata": {},
   "source": [
    "# 1. Build-in Functions"
   ]
  },
  {
   "cell_type": "code",
   "execution_count": 1,
   "id": "285be776",
   "metadata": {},
   "outputs": [],
   "source": [
    "# https://docs.python.org/3/library/functions.html"
   ]
  },
  {
   "cell_type": "markdown",
   "id": "b8687e80",
   "metadata": {},
   "source": [
    "# 2. Modules"
   ]
  },
  {
   "cell_type": "code",
   "execution_count": 2,
   "id": "8cebc678",
   "metadata": {},
   "outputs": [
    {
     "name": "stdout",
     "output_type": "stream",
     "text": [
      "2.0\n"
     ]
    },
    {
     "data": {
      "text/plain": [
       "1j"
      ]
     },
     "execution_count": 2,
     "metadata": {},
     "output_type": "execute_result"
    }
   ],
   "source": [
    "import math\n",
    "print(math.sqrt(4))\n",
    "# print(math.sqrt(-1)) # ValueError: math domain error\n",
    "\n",
    "import cmath\n",
    "cmath.sqrt(-1)"
   ]
  },
  {
   "cell_type": "code",
   "execution_count": 3,
   "id": "5d6a667d",
   "metadata": {},
   "outputs": [
    {
     "name": "stdout",
     "output_type": "stream",
     "text": [
      "   November 2023\n",
      "Mo Tu We Th Fr Sa Su\n",
      "       1  2  3  4  5\n",
      " 6  7  8  9 10 11 12\n",
      "13 14 15 16 17 18 19\n",
      "20 21 22 23 24 25 26\n",
      "27 28 29 30\n",
      "\n",
      "\n",
      "True\n",
      "False\n",
      "24\n"
     ]
    }
   ],
   "source": [
    "import calendar\n",
    "print(calendar.month(2023, 11))\n",
    "print()\n",
    "\n",
    "# info about lear year https://en.wikipedia.org/wiki/Leap_year\n",
    "print(calendar.isleap(2020))\n",
    "print(calendar.isleap(2100))\n",
    "print(calendar.leapdays(2001, 2099)) # number of leapyear between 2000 and 2100"
   ]
  },
  {
   "cell_type": "code",
   "execution_count": 4,
   "id": "9636cfca",
   "metadata": {},
   "outputs": [
    {
     "name": "stdout",
     "output_type": "stream",
     "text": [
      "0.4121912696540746\n",
      "\n",
      "  0.2016  0.1293  0.2997  0.3585  0.0435  0.2038  0.9511  0.8984  0.6894  0.5229\n",
      "\n",
      "   1  46   6  12  72  64  60  34  87  48"
     ]
    }
   ],
   "source": [
    "import random\n",
    "print(random.random(), end='\\n\\n')\n",
    "for i in range(10):\n",
    "    print(\"%8.4f\" % random.random(), end='')\n",
    "print('\\n')\n",
    "\n",
    "for i in range(10):\n",
    "    print(\"%4d\" % random.randint(1, 100), end='')"
   ]
  },
  {
   "cell_type": "code",
   "execution_count": 5,
   "id": "cc0e8cf7",
   "metadata": {},
   "outputs": [
    {
     "name": "stdout",
     "output_type": "stream",
     "text": [
      "[8, 3, 'K', 'J', 9, 'Q', 5, 6, 2, 10, 7, 'A', 4]\n",
      "\n",
      "K Q 9 5 2 J Q 4 3 9 Q 9 6 \n",
      "[3] ['A'] [2] [9] [2] [4] ['A'] [8] ['K'] ['Q'] ['K'] [6] [4] \n",
      "\n",
      "2 [8, 3, 'K', 'J', 9, 'Q', 5, 6, 2, 10, 7, 'A', 4]\n",
      "[3, 8, 4, 'Q', 9, 2] [8, 3, 'K', 'J', 9, 'Q', 5, 6, 2, 10, 7, 'A', 4]\n",
      "[2, 3, 8, 'J', 6, 5, 4, 'A', 'K', 7, 'Q', 9, 10] [8, 3, 'K', 'J', 9, 'Q', 5, 6, 2, 10, 7, 'A', 4]\n"
     ]
    }
   ],
   "source": [
    "lst_poker = [2, 3, 4, 5, 6, 7, 8, 9, 10, 'J', 'Q', 'K', 'A']\n",
    "random.shuffle(lst_poker)\n",
    "print(lst_poker, end='\\n\\n')\n",
    "\n",
    "for i in range(13):\n",
    "    print(random.choice(lst_poker), end=' ')\n",
    "print()\n",
    "\n",
    "for i in range(13):\n",
    "    print(random.sample(lst_poker, 1), end=' ')\n",
    "print('\\n')\n",
    "\n",
    "\n",
    "print(random.choice(lst_poker), lst_poker)\n",
    "print(random.sample(lst_poker, 6), lst_poker)\n",
    "print(random.sample(lst_poker, 13), lst_poker)\n",
    "# print(random.sample(lst_poker, 14), lst_poker) # you cannot sample 14 items from the list as there are only 13 item in this list"
   ]
  },
  {
   "cell_type": "markdown",
   "id": "c7128c62",
   "metadata": {},
   "source": [
    "# 3. Self-defined functions"
   ]
  },
  {
   "cell_type": "code",
   "execution_count": 6,
   "id": "7a83fe68",
   "metadata": {},
   "outputs": [
    {
     "name": "stdout",
     "output_type": "stream",
     "text": [
      "Hello, Python!\n"
     ]
    }
   ],
   "source": [
    "def print_hello():\n",
    "    print(\"Hello, Python!\")\n",
    "\n",
    "# call this function\n",
    "print_hello()"
   ]
  },
  {
   "cell_type": "code",
   "execution_count": 7,
   "id": "13b51340",
   "metadata": {},
   "outputs": [
    {
     "name": "stdout",
     "output_type": "stream",
     "text": [
      "I am learning C for programming.\n",
      "I am learning Python for programming.\n",
      "I am learning Julia for programming.\n",
      "I am learning Fortran for programming.\n"
     ]
    }
   ],
   "source": [
    "def print_lang(lang):\n",
    "    print(f\"I am learning {lang} for programming.\")\n",
    "\n",
    "langs = ['C', 'Python', 'Julia', 'Fortran']\n",
    "for lang in langs:\n",
    "    print_lang(lang)"
   ]
  },
  {
   "cell_type": "code",
   "execution_count": 8,
   "id": "96117708",
   "metadata": {},
   "outputs": [
    {
     "name": "stdout",
     "output_type": "stream",
     "text": [
      "I am using Python for Proj_A\n",
      "I am using C/C++ for Proj_B\n",
      "I am using Proj_C for Fortran\n",
      "I am using Fortran for Proj_C\n"
     ]
    }
   ],
   "source": [
    "def proj_info(lang, proj):\n",
    "    print(f\"I am using {lang} for {proj}\")\n",
    "\n",
    "proj_info(\"Python\", \"Proj_A\")\n",
    "proj_info(\"C/C++\", \"Proj_B\")\n",
    "proj_info(\"Proj_C\", \"Fortran\") # the order to two arguments is not correct\n",
    "proj_info(proj=\"Proj_C\", lang=\"Fortran\") # this works"
   ]
  },
  {
   "cell_type": "code",
   "execution_count": 9,
   "id": "74b634b9",
   "metadata": {},
   "outputs": [
    {
     "name": "stdout",
     "output_type": "stream",
     "text": [
      "I am using Python for Proj_A in 2023\n",
      "I am using C/C++ for Proj_B in 2023\n",
      "I am using Julia for Proj_C in 2024\n"
     ]
    }
   ],
   "source": [
    "def proj_info(lang, proj='Proj_A', year=2023):\n",
    "    print(f\"I am using {lang} for {proj} in {year}\")\n",
    "\n",
    "proj_info(\"Python\")\n",
    "proj_info(\"C/C++\", \"Proj_B\")\n",
    "proj_info(\"Julia\", \"Proj_C\", 2024)"
   ]
  },
  {
   "cell_type": "code",
   "execution_count": 10,
   "id": "196536bb",
   "metadata": {},
   "outputs": [
    {
     "name": "stdout",
     "output_type": "stream",
     "text": [
      "I am using Python, Julia, C, Fortran, and Rust for Proj_A.\n",
      "I am using Python, Julia, C, Fortran, and Rust for Proj_A.\n",
      "I am using Python, C, Fortran, Rust, and Julia for Proj_A.\n",
      "I am using Python, Julia, C, Fortran, and Rust for Proj_A.\n",
      "I am using C, Fortran, Rust, Python, and Julia for Proj_A.\n"
     ]
    }
   ],
   "source": [
    "def proj_info(lang_a, lang_b, lang_c, lang_d, lang_e):\n",
    "    print(f\"I am using {lang_a}, {lang_b}, {lang_c}, {lang_d}, and {lang_e} for Proj_A.\")\n",
    "    \n",
    "proj_info(\"Python\", \"Julia\", \"C\", \"Fortran\", \"Rust\")\n",
    "\n",
    "temp_lang = \"C\", \"Fortran\", \"Rust\" # this is a tuple\n",
    "proj_info(\"Python\", \"Julia\", *temp_lang)\n",
    "proj_info(\"Python\", *temp_lang, \"Julia\")\n",
    "proj_info(\"Python\", \"Julia\", *(\"C\", \"Fortran\", \"Rust\"))\n",
    "\n",
    "temp_lang = [\"C\", \"Fortran\", \"Rust\"] # this is a list\n",
    "proj_info(*temp_lang, \"Python\", \"Julia\")"
   ]
  },
  {
   "cell_type": "code",
   "execution_count": 11,
   "id": "aea7754c",
   "metadata": {},
   "outputs": [
    {
     "name": "stdout",
     "output_type": "stream",
     "text": [
      "My name is abc, and I am 33 years old.\n",
      "I am learning Python for programming\n",
      "I am learning Julia for programming\n",
      "WORKING at Stockholm\n",
      "LIVING at Linkoping\n",
      "Travelling to Helsinki\n",
      "\n",
      "My name is abc, and I am 33 years old.\n",
      "I am learning Python for programming\n",
      "I am learning Julia for programming\n",
      "WORKING at Kista\n",
      "LIVING at Linkoping\n",
      "Travelling to Helsinki\n"
     ]
    }
   ],
   "source": [
    "def person_info(name, age, *langs, **cities): # langs is a tuple，cities is a dictionary\n",
    "    print(f\"My name is {name}, and I am {age} years old.\")\n",
    "    for lang in langs:\n",
    "        print(f\"I am learning {lang} for programming\")\n",
    "    for key, value in cities.items():\n",
    "        if key == 'travelling':\n",
    "            print(f\"{key.title()} to {value}\")\n",
    "        else:\n",
    "            print(f\"{key.upper()} at {value}\")\n",
    "\n",
    "person_info(\"abc\", 33, \"Python\", 'Julia', working=\"Stockholm\", living=\"Linkoping\", travelling=\"Helsinki\")\n",
    "print()\n",
    "\n",
    "langs = [\"Python\", 'Julia']\n",
    "places = dict(working=\"Kista\", living=\"Linkoping\", travelling=\"Helsinki\")\n",
    "person_info(\"abc\", 33, *langs, **places)"
   ]
  },
  {
   "cell_type": "code",
   "execution_count": 12,
   "id": "4177d9d7",
   "metadata": {},
   "outputs": [
    {
     "name": "stdout",
     "output_type": "stream",
     "text": [
      "p1=1, p2=2, p3=0, vart=(), kw ={}\n",
      "p1=1, p2=2, p3=0, vart=(), kw ={'c': 3}\n",
      "p1=1, p2=2, p3=3, vart=('a', 'b', 'c'), kw ={}\n",
      "p1=1, p2=2, p3=3, vart=('abc',), kw ={'x': 9, 'y': 8}\n"
     ]
    }
   ],
   "source": [
    "def exp(p1, p2, p3=0, *vart, **kw):\n",
    "    print(f'p1={p1}, p2={p2}, p3={p3}, vart={vart}, kw ={kw}')\n",
    "\n",
    "exp(1, 2)\n",
    "exp(1, 2, c=3)\n",
    "exp(1, 2, 3, 'a', 'b', 'c')\n",
    "exp(1, 2, 3, 'abc', x=9, y=8)"
   ]
  },
  {
   "cell_type": "code",
   "execution_count": 13,
   "id": "fa11cf48",
   "metadata": {},
   "outputs": [
    {
     "name": "stdout",
     "output_type": "stream",
     "text": [
      "c[0]= 9  and c[1] =  3\n",
      "c1 =  9  and c2 =    3\n"
     ]
    }
   ],
   "source": [
    "def add_sub(a, b):\n",
    "    return a+b, a-b\n",
    "\n",
    "c = add_sub(6, 3)\n",
    "print(\"c[0]=\", c[0], \" and c[1] = \", c[1])\n",
    "\n",
    "c1, c2 = add_sub(6, 3)\n",
    "print(\"c1 = \", c1, \" and c2 =   \", c2)"
   ]
  },
  {
   "cell_type": "markdown",
   "id": "5e69d1bd",
   "metadata": {},
   "source": [
    "## Global vs local variables"
   ]
  },
  {
   "cell_type": "markdown",
   "id": "b3849541",
   "metadata": {},
   "source": [
    "## Higher-order Functions"
   ]
  },
  {
   "cell_type": "code",
   "execution_count": 14,
   "id": "da05f1c3",
   "metadata": {},
   "outputs": [
    {
     "name": "stdout",
     "output_type": "stream",
     "text": [
      "Multiplication = 40\n",
      "Addition       = 9\n",
      "name = abc and summation = 48\n",
      "name = xyz and summation = 2300\n"
     ]
    }
   ],
   "source": [
    "def multiply(num1, num2):\n",
    "    return num1*num2\n",
    "def addition(num1, num2):\n",
    "    return num1 + num2\n",
    "def handle_data(func, n1, n2):\n",
    "    return func(n1, n2)\n",
    "print('Multiplication =', handle_data(multiply, 5, 8))\n",
    "print('Addition       =', handle_data(addition, 4, 5))\n",
    "\n",
    "\n",
    "def proj_a(*scores):\n",
    "    return sum(scores)*2\n",
    "def proj_b(*scores):\n",
    "    return sum(scores)*100\n",
    "def getscore(name, func, *scores):\n",
    "    print(f'name = {name} and summation = ', end='')\n",
    "    return func(*scores)\n",
    "print(getscore('abc', proj_a, 7, 8, 9))\n",
    "print(getscore('xyz', proj_b, 8, 9, 6))"
   ]
  },
  {
   "cell_type": "markdown",
   "id": "8110841b",
   "metadata": {},
   "source": [
    "## map/reduce/filter functions"
   ]
  },
  {
   "cell_type": "markdown",
   "id": "8f703591",
   "metadata": {},
   "source": [
    "## lambda function"
   ]
  },
  {
   "cell_type": "markdown",
   "id": "9f156a9d",
   "metadata": {},
   "source": [
    "## closure, decorator, generator, partial()"
   ]
  },
  {
   "cell_type": "markdown",
   "id": "3ecd98ae",
   "metadata": {},
   "source": [
    "## recursion"
   ]
  },
  {
   "cell_type": "code",
   "execution_count": 15,
   "id": "76368f3f",
   "metadata": {},
   "outputs": [
    {
     "name": "stdout",
     "output_type": "stream",
     "text": [
      "120\n",
      "720\n",
      "5040\n"
     ]
    }
   ],
   "source": [
    "# factorial is the product of all positive integers less than or equal to a given positive integer and denoted by that integer and an exclamation point\n",
    "# factorial seven is written 7!, meaning 1 × 2 × 3 × 4 × 5 × 6 × 7\n",
    "\n",
    "# option 1\n",
    "import math\n",
    "print(math.factorial(5))\n",
    "\n",
    "# option 2\n",
    "def func_factorial(n):\n",
    "    rst = 1\n",
    "    for ix in range(1, n+1):\n",
    "        rst *= ix\n",
    "    return rst\n",
    "print(func_factorial(6))\n",
    "\n",
    "# option 3\n",
    "def func_recursion(n): \n",
    "    if n <= 1:\n",
    "        return 1\n",
    "    else:\n",
    "        return n*func_recursion(n-1)\n",
    "print(func_recursion(7))"
   ]
  },
  {
   "cell_type": "code",
   "execution_count": 16,
   "id": "2abae150",
   "metadata": {},
   "outputs": [
    {
     "name": "stdout",
     "output_type": "stream",
     "text": [
      "Using MATH module:      0.4674674160050927\n",
      "Non-recursive function: 3.4789383330062265\n",
      "Recursive function:     8.87159158400027\n"
     ]
    }
   ],
   "source": [
    "# timing these functions\n",
    "\n",
    "num = 100\n",
    "# print(math.factorial(num))\n",
    "# print(func_factorial(num))\n",
    "# print(func_recursion(num))\n",
    "\n",
    "import timeit\n",
    "print(f\"Using MATH module:      {str(timeit.timeit(lambda: math.factorial(num)))}\")\n",
    "print(f\"Non-recursive function: {str(timeit.timeit(lambda: func_factorial(num)))}\")\n",
    "print(f\"Recursive function:     {str(timeit.timeit(lambda: func_recursion(num)))}\")"
   ]
  },
  {
   "cell_type": "code",
   "execution_count": null,
   "id": "26421022",
   "metadata": {},
   "outputs": [],
   "source": []
  }
 ],
 "metadata": {
  "kernelspec": {
   "display_name": "Python 3 (ipykernel)",
   "language": "python",
   "name": "python3"
  },
  "language_info": {
   "codemirror_mode": {
    "name": "ipython",
    "version": 3
   },
   "file_extension": ".py",
   "mimetype": "text/x-python",
   "name": "python",
   "nbconvert_exporter": "python",
   "pygments_lexer": "ipython3",
   "version": "3.10.9"
  }
 },
 "nbformat": 4,
 "nbformat_minor": 5
}
