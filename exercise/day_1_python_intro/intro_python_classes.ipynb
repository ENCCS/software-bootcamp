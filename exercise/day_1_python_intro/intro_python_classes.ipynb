{
 "cells": [
  {
   "cell_type": "markdown",
   "id": "223ba9d5",
   "metadata": {},
   "source": [
    "# Introduction to Python --- Class"
   ]
  },
  {
   "cell_type": "code",
   "execution_count": 1,
   "id": "17f7654d",
   "metadata": {},
   "outputs": [],
   "source": [
    "class LanguageProject:\n",
    "    def __init__(self, lang, proj='Proj_A'):\n",
    "        self.lang = lang\n",
    "        self.proj = proj\n",
    "        self.year = 2023\n",
    "\n",
    "    def say_hello(self):\n",
    "        print(f\"Hello {self.lang}!\")\n",
    "    \n",
    "    def proj_info(self):\n",
    "        print(f\"I am using {self.lang} for {self.proj}\")"
   ]
  },
  {
   "cell_type": "code",
   "execution_count": 2,
   "id": "3295212e",
   "metadata": {},
   "outputs": [
    {
     "name": "stdout",
     "output_type": "stream",
     "text": [
      "lang_temp: <__main__.LanguageProject object at 0x107aa9b10>\n",
      "type: <class '__main__.LanguageProject'>\n",
      "lang_temp.name: Python\n",
      "\n",
      "Hello Python!\n",
      "Hello Julia!\n"
     ]
    }
   ],
   "source": [
    "lang_temp = LanguageProject(\"Python\")\n",
    "print(f\"lang_temp: {lang_temp}\")\n",
    "print(f\"type: {type(lang_temp)}\")\n",
    "print(f\"lang_temp.name: {lang_temp.lang}\")\n",
    "print()\n",
    "\n",
    "lang_1 = LanguageProject(\"Python\")\n",
    "lang_1.say_hello()\n",
    "\n",
    "lang_2 = LanguageProject(\"Julia\")\n",
    "lang_2.say_hello()"
   ]
  },
  {
   "cell_type": "code",
   "execution_count": 3,
   "id": "596185fe",
   "metadata": {},
   "outputs": [
    {
     "name": "stdout",
     "output_type": "stream",
     "text": [
      "Hello Python!\n",
      "I am using Python for Proj_X\n",
      "2023\n"
     ]
    }
   ],
   "source": [
    "proj_a = LanguageProject(\"Python\", 'Proj_X')\n",
    "proj_a.say_hello()\n",
    "proj_a.proj_info()\n",
    "print(proj_a.year)"
   ]
  },
  {
   "cell_type": "markdown",
   "id": "d342910f",
   "metadata": {},
   "source": [
    "## Public vs Private"
   ]
  },
  {
   "cell_type": "code",
   "execution_count": 4,
   "id": "38dc42d3",
   "metadata": {},
   "outputs": [
    {
     "name": "stdout",
     "output_type": "stream",
     "text": [
      "Kista\n"
     ]
    }
   ],
   "source": [
    "class ProjPlace:\n",
    "    def __init__(self, place):\n",
    "        self._place = place\n",
    "\n",
    "    @property\n",
    "    def place(self):\n",
    "        return self._place\n",
    "\n",
    "\n",
    "temp_place = ProjPlace(place='Kista')\n",
    "\n",
    "# print(temp_place.place) # you cannot do this \n",
    "# temp_place = 'Lulea' # nor for this\n",
    "\n",
    "# if you want the `place` to be readable but not writable, you can use `property`\n",
    "\n",
    "print(temp_place.place) # this works as `place` is readable\n",
    "\n",
    "# temp_place.place = 'Lulea' # this does not work as `place` is not writable\n",
    "# print(temp_place.place)"
   ]
  },
  {
   "cell_type": "markdown",
   "id": "7cc5d8db",
   "metadata": {},
   "source": [
    "## Inheritance"
   ]
  },
  {
   "cell_type": "code",
   "execution_count": 5,
   "id": "ff9bc26d",
   "metadata": {},
   "outputs": [],
   "source": [
    "class ProjLanguage:\n",
    "    def self_intro(self):\n",
    "        print(\"This is for the whole Project\")\n",
    "\n",
    "    @property\n",
    "    def favorite_lang(self):\n",
    "        return \"Python\"\n",
    "\n",
    "\n",
    "class SubProjALang(ProjLanguage):\n",
    "    def self_intro(self):\n",
    "        print(\"This is Subject_A\")\n",
    "\n",
    "\n",
    "class SubProjBLang(ProjLanguage):\n",
    "    def self_intro(self):\n",
    "        print(\"This is Subject_B\")\n",
    "    @property\n",
    "    def favorite_lang(self):\n",
    "        return \"Julia\""
   ]
  },
  {
   "cell_type": "code",
   "execution_count": 6,
   "id": "ac660695",
   "metadata": {},
   "outputs": [
    {
     "name": "stdout",
     "output_type": "stream",
     "text": [
      "This is for the whole Project\n",
      "The favorite language for this project is Python\n",
      "\n",
      "This is Subject_A\n",
      "The favorite language for Subject_A is Python\n",
      "\n",
      "This is Subject_B\n",
      "The favorite language for Subject_B is Julia\n"
     ]
    }
   ],
   "source": [
    "proj_lang = ProjLanguage()\n",
    "proj_lang.self_intro()\n",
    "print(f\"The favorite language for this project is {proj_lang.favorite_lang}\")\n",
    "print()\n",
    "\n",
    "proj_a_lang = SubProjALang()\n",
    "proj_a_lang.self_intro()\n",
    "print(f\"The favorite language for Subject_A is {proj_a_lang.favorite_lang}\")\n",
    "print()\n",
    "\n",
    "proj_b_lang = SubProjBLang()\n",
    "proj_b_lang.self_intro()\n",
    "print(f\"The favorite language for Subject_B is {proj_b_lang.favorite_lang}\")"
   ]
  },
  {
   "cell_type": "code",
   "execution_count": null,
   "id": "bd4fcd7e",
   "metadata": {},
   "outputs": [],
   "source": []
  }
 ],
 "metadata": {
  "kernelspec": {
   "display_name": "Python 3 (ipykernel)",
   "language": "python",
   "name": "python3"
  },
  "language_info": {
   "codemirror_mode": {
    "name": "ipython",
    "version": 3
   },
   "file_extension": ".py",
   "mimetype": "text/x-python",
   "name": "python",
   "nbconvert_exporter": "python",
   "pygments_lexer": "ipython3",
   "version": "3.10.9"
  }
 },
 "nbformat": 4,
 "nbformat_minor": 5
}
