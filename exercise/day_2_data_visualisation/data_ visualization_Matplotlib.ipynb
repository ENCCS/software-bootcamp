{
 "cells": [
  {
   "cell_type": "markdown",
   "id": "7b1aaf7b",
   "metadata": {},
   "source": [
    "# Data visualization with Matplotlib"
   ]
  },
  {
   "cell_type": "markdown",
   "id": "3303fb86",
   "metadata": {},
   "source": [
    "## Case 1: Simple plot"
   ]
  },
  {
   "cell_type": "code",
   "execution_count": null,
   "id": "2fd7d7d6",
   "metadata": {},
   "outputs": [],
   "source": [
    "import matplotlib.pyplot as plt\n",
    "\n",
    "data_x = [10.0, 8.00, 9.00, 11.0, 14.0, 6.00, 4.00, 12.00, 7.00, 5.00]\n",
    "data_y = [8.04, 6.95, 7.58, 8.81, 8.33, 9.96, 7.24, 4.26, 10.84, 4.82] # 3.0\n",
    "\n",
    "fig, ax = plt.subplots()\n",
    "\n",
    "ax.scatter(data_x, data_y) # switch data_x and data_y\n",
    "\n",
    "ax.set_xlabel(\"Text to label the X axis\")\n",
    "ax.set_ylabel(\"Text to label the Y axis\")\n",
    "ax.set_title(\"This is the title\")"
   ]
  },
  {
   "cell_type": "markdown",
   "id": "0dbe5d11",
   "metadata": {},
   "source": [
    "## Case 2: More sets of data"
   ]
  },
  {
   "cell_type": "code",
   "execution_count": null,
   "id": "4af31385",
   "metadata": {},
   "outputs": [],
   "source": [
    "import matplotlib.pyplot as plt\n",
    "\n",
    "data_x = [10.0, 8.00, 13.0, 9.00, 11.0, 14.0, 6.00, 4.00, 12.00, 7.00, 5.00]\n",
    "data_y1 = [8.0, 6.95, 7.58, 8.81, 8.33, 9.96, 7.24, 4.26, 10.84, 4.82, 5.68]\n",
    "\n",
    "data_y2 = [9.14, 8.14, 8.74, 8.77, 9.26, 8.10, 6.13, 3.10, 9.13, 7.26, 4.74] # dataset 2\n",
    "data_y3 = [y*2.0 for y in data_y2] # multiply all elements in data2_y by 2.0\n",
    "\n",
    "fig, ax = plt.subplots()\n",
    "\n",
    "ax.scatter(x=data_x, y=data_y1, c=\"r\", label='Data for Set 1')\n",
    "ax.scatter(x=data_x, y=data_y2, c=\"g\", label='Data for Set 2')\n",
    "ax.scatter(x=data_x, y=data_y3, c=\"b\", label='Data for Set 3 (scaled from set 2)')\n",
    "\n",
    "ax.set_xlabel(\"Text to label the X axis\")\n",
    "ax.set_ylabel(\"Text to label the Y axis\")\n",
    "ax.set_title(\"This is the tiele\")\n",
    "ax.legend() # ['Set 1', 'Set 2', 'Set 3']  # loc = 'upper right'"
   ]
  },
  {
   "cell_type": "markdown",
   "id": "0a5b0aba",
   "metadata": {},
   "source": [
    "## Case 3: Matplotlib +Numpy"
   ]
  },
  {
   "cell_type": "code",
   "execution_count": null,
   "id": "3df3299b",
   "metadata": {},
   "outputs": [],
   "source": [
    "import numpy as np\n",
    "import matplotlib.pyplot as plt\n",
    "\n",
    "x = np.array([1, 2, 3, 4, 5, 6, 7])\n",
    "y = np.array([1, 3, 2, 5, 1, 4, 2])\n",
    "\n",
    "fig, ax = plt.subplots()\n",
    "\n",
    "ax.plot(x, y)"
   ]
  },
  {
   "cell_type": "code",
   "execution_count": null,
   "id": "443a0756",
   "metadata": {},
   "outputs": [],
   "source": [
    "fig, ax = plt.subplots(nrows=1, ncols=4) # 4-1\n",
    "\n",
    "ax[0].plot(x, y)\n",
    "ax[1].plot(x, x+y, color='b', ls=':', marker='o');\n",
    "ax[2].plot(x, 2-y, color='g', ls='-.',  marker='*', markeredgecolor='r');\n",
    "ax[3].plot(x, x*(2-y), color='r', ls='--',  marker='o', \n",
    "           markeredgecolor='b', markerfacecolor='y', markersize=10);\n",
    "\n",
    "# how about 2*2"
   ]
  },
  {
   "cell_type": "markdown",
   "id": "392edd4e",
   "metadata": {},
   "source": [
    "## Case 4: 2D plot"
   ]
  },
  {
   "cell_type": "code",
   "execution_count": null,
   "id": "8ae259e4",
   "metadata": {},
   "outputs": [],
   "source": [
    "import numpy as np\n",
    "import matplotlib.pyplot as plt\n",
    "\n",
    "x = np.arange(-3.0, 3.0, 0.05)\n",
    "y = np.arange(-3.0, 3.0, 0.05)\n",
    "\n",
    "X, Y = np.meshgrid(x, y)\n",
    "Z = np.sin(X) + np.cos(Y)\n",
    "\n",
    "fig, ax = plt.subplots()\n",
    "\n",
    "im = ax.imshow(Z, extent=[-4, 4, -6, 6])"
   ]
  },
  {
   "cell_type": "code",
   "execution_count": null,
   "id": "5ada60c5",
   "metadata": {},
   "outputs": [],
   "source": [
    "# different colormaps\n",
    "# https://matplotlib.org/stable/users/explain/colors/colormaps.html\n",
    "\n",
    "Z = np.sin(Y) - np.cos(X)\n",
    "im = ax.imshow(Z, interpolation='gaussian', cmap='coolwarm', extent=[-3, 3, -3, 3])\n",
    "cbar = fig.colorbar(im)\n",
    "fig\n",
    "\n",
    "# interpolation = 'none', 'nearest', 'bilinear', 'bicubic', 'spline16'\n",
    "# 'hamming', 'kaiser', 'quadric', 'gaussian', 'bessel' ...\n",
    "\n",
    "# check this link for interpolation methods \n",
    "# https://matplotlib.org/stable/gallery/images_contours_and_fields/interpolation_methods.html"
   ]
  },
  {
   "cell_type": "code",
   "execution_count": null,
   "id": "09497977",
   "metadata": {},
   "outputs": [],
   "source": [
    "fig, ax = plt.subplots(nrows=1, ncols=4)\n",
    "\n",
    "Z1 = abs(np.sin(Y+X))*np.cos(Y+X)\n",
    "ax[0].imshow(Z1, interpolation='none', cmap='coolwarm', extent=[-3,3,-3,3], origin='lower')\n",
    "ax[0].set_title('imshow')\n",
    "\n",
    "Z2 = np.sin(X+Y)*abs(np.cos(Y-X))\n",
    "ax[1].contour(Z2, cmap='coolwarm', extent=[-3,3,-3,3])\n",
    "ax[1].set_title('contour')\n",
    "# ax[1].set_aspect('equal')\n",
    "\n",
    "Z3 = np.sin(X*X)**3 + np.cos(Y*Y)**4\n",
    "ax[2].contourf(Z3, extent=[-3,3,-3,3])\n",
    "ax[2].set_title('contourf');\n",
    "ax[2].set_aspect('equal')\n",
    "\n",
    "ax[3].contourf(Z1, cmap='Spectral', extent=[-3,3,-3,3])\n",
    "ax[3].set_title('original contourf with stretched axes')"
   ]
  },
  {
   "cell_type": "markdown",
   "id": "f361d534",
   "metadata": {},
   "source": [
    "## Case 5: Histogram"
   ]
  },
  {
   "cell_type": "code",
   "execution_count": null,
   "id": "d69a74b0",
   "metadata": {},
   "outputs": [],
   "source": [
    "import numpy as np\n",
    "import matplotlib.pyplot as plt\n",
    "\n",
    "n = np.random.randn(1000)\n",
    "fig, axes = plt.subplots(1, 2, figsize=(9, 4)) # one row and two columns\n",
    "\n",
    "axes[0].hist(n, color = \"pink\", edgecolor=\"green\", lw = 2) # `lw = 5` for ec\n",
    "axes[0].set_title(\"Default histogram\")\n",
    "axes[0].set_xlim((np.min(n), np.max(n)))\n",
    "\n",
    "# plot cumulative histogram\n",
    "axes[1].hist(n, cumulative=True, bins=50, color=\"y\")\n",
    "axes[1].set_title(\"Cumulative detailed histogram\")\n",
    "axes[1].set_xlim((np.min(n), np.max(n)))\n",
    "\n",
    "fig.tight_layout()\n",
    "\n",
    "# plt.savefig(\"my-graph.pdf\")\n",
    "# plt.savefig(\"my-graph.png\", dpi=500, bbox_inches=\"tight\")"
   ]
  }
 ],
 "metadata": {
  "kernelspec": {
   "display_name": "Python 3 (ipykernel)",
   "language": "python",
   "name": "python3"
  },
  "language_info": {
   "codemirror_mode": {
    "name": "ipython",
    "version": 3
   },
   "file_extension": ".py",
   "mimetype": "text/x-python",
   "name": "python",
   "nbconvert_exporter": "python",
   "pygments_lexer": "ipython3",
   "version": "3.10.9"
  }
 },
 "nbformat": 4,
 "nbformat_minor": 5
}
