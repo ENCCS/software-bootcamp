{
 "cells": [
  {
   "cell_type": "markdown",
   "id": "04264998",
   "metadata": {},
   "source": [
    "# Data visualization with Seaborn"
   ]
  },
  {
   "cell_type": "markdown",
   "id": "b093f6c5",
   "metadata": {},
   "source": [
    "## Matplotlib vs Seaborn"
   ]
  },
  {
   "cell_type": "code",
   "execution_count": null,
   "id": "11585aeb",
   "metadata": {},
   "outputs": [],
   "source": [
    "import matplotlib.pyplot as plt\n",
    "import numpy as np\n",
    "import pandas as pd\n",
    "\n",
    "plt.style.use('classic')\n",
    "# Solarize_Light2, bmh, dark_background, fast, fivethirtyeight\n",
    "# grayscale, ggplot\n",
    "\n",
    "# all styles for matplotlib\n",
    "# https://matplotlib.org/stable/gallery/style_sheets/style_sheets_reference.html\n",
    "\n",
    "rng = np.random.RandomState(1)\n",
    "\n",
    "x = np.linspace(0, 10, 100)\n",
    "y = np.cumsum(rng.randn(100, 10), 0)\n",
    "\n",
    "fig, ax = plt.subplots()\n",
    "\n",
    "ax.plot(x, y)\n",
    "ax.legend('ABCDEFGHIJ', ncol=2, loc='best')"
   ]
  },
  {
   "cell_type": "code",
   "execution_count": null,
   "id": "8ba86fb1",
   "metadata": {},
   "outputs": [],
   "source": [
    "import seaborn as sns\n",
    "\n",
    "sns.set() # using Seaborn\n",
    "\n",
    "fig, ax = plt.subplots()\n",
    "\n",
    "ax.plot(x, -y)\n",
    "ax.legend('ABCDEFGHIJ', ncol=2, loc=\"best\")"
   ]
  },
  {
   "cell_type": "markdown",
   "id": "efd3f037",
   "metadata": {},
   "source": [
    "## Loading Datasets"
   ]
  },
  {
   "cell_type": "code",
   "execution_count": null,
   "id": "0b27d361",
   "metadata": {},
   "outputs": [],
   "source": [
    "import pandas as pd\n",
    "import matplotlib.pyplot as plt\n",
    "import seaborn as sns\n",
    "\n",
    "# Loading built-in Datasets\n",
    "# Here we use Iris Flower Dataset \n",
    "# https://en.wikipedia.org/wiki/Iris_flower_data_set\n",
    "\n",
    "iris = sns.load_dataset(\"iris\")"
   ]
  },
  {
   "cell_type": "code",
   "execution_count": null,
   "id": "54afc221",
   "metadata": {},
   "outputs": [],
   "source": [
    "iris.head(10)"
   ]
  },
  {
   "cell_type": "code",
   "execution_count": null,
   "id": "32b47934",
   "metadata": {},
   "outputs": [],
   "source": [
    "# four features were measured (in centimetres)\n",
    "# length and width of sepals and petals.\n",
    "\n",
    "iris.describe()\n",
    "\n",
    "# .describe() is a very useful method in Pandas \n",
    "# it generates descriptive statistics that summarize \n",
    "# the central tendency, dispersion and shape of a dataset’s distribution"
   ]
  },
  {
   "cell_type": "code",
   "execution_count": null,
   "id": "374088bc",
   "metadata": {},
   "outputs": [],
   "source": [
    "sns.set()\n",
    "\n",
    "sns.stripplot(x=\"species\", y=\"sepal_length\", data=iris)\n",
    "# try to use `swarmplot`, `boxplot`, `stripplot`, `violinplot`\n",
    "\n",
    "# sns.boxplot(x=\"species\", y=\"sepal_length\", data=iris)"
   ]
  },
  {
   "cell_type": "code",
   "execution_count": null,
   "id": "88a8c4ff",
   "metadata": {},
   "outputs": [],
   "source": [
    "# `pairplot` for all pairs\n",
    "\n",
    "sns.pairplot(data=iris, kind='scatter')"
   ]
  },
  {
   "cell_type": "code",
   "execution_count": null,
   "id": "58f65dad",
   "metadata": {},
   "outputs": [],
   "source": []
  }
 ],
 "metadata": {
  "kernelspec": {
   "display_name": "Python 3 (ipykernel)",
   "language": "python",
   "name": "python3"
  },
  "language_info": {
   "codemirror_mode": {
    "name": "ipython",
    "version": 3
   },
   "file_extension": ".py",
   "mimetype": "text/x-python",
   "name": "python",
   "nbconvert_exporter": "python",
   "pygments_lexer": "ipython3",
   "version": "3.10.9"
  }
 },
 "nbformat": 4,
 "nbformat_minor": 5
}
