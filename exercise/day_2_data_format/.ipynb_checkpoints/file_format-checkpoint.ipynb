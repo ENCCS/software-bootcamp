{
 "cells": [
  {
   "cell_type": "markdown",
   "id": "97d148a2",
   "metadata": {},
   "source": [
    "# File format"
   ]
  },
  {
   "cell_type": "code",
   "execution_count": 1,
   "id": "cffa08f0",
   "metadata": {},
   "outputs": [],
   "source": [
    "proj_lang = {\n",
    "    \"proj_a\" : {'lang':'Python', 'city':'Stockholm', 'start':2022},\n",
    "    \"proj_b\" : {'lang':'C/C++', 'city':'Uppsala', 'start':2023},\n",
    "    \"proj_c\" : {'lang':'Julia', 'city':'Linkoping', 'start':2024}\n",
    "}"
   ]
  },
  {
   "cell_type": "code",
   "execution_count": 2,
   "id": "16fa1e45",
   "metadata": {},
   "outputs": [
    {
     "data": {
      "text/plain": [
       "dict"
      ]
     },
     "execution_count": 2,
     "metadata": {},
     "output_type": "execute_result"
    }
   ],
   "source": [
    "type(proj_lang)"
   ]
  },
  {
   "cell_type": "code",
   "execution_count": 3,
   "id": "0df456ba",
   "metadata": {},
   "outputs": [],
   "source": [
    "data = open('proj_lang_output.txt','w')\n",
    "data.write(str(proj_lang))\n",
    "data.close()"
   ]
  },
  {
   "cell_type": "code",
   "execution_count": 4,
   "id": "49f89d7c",
   "metadata": {},
   "outputs": [
    {
     "name": "stdout",
     "output_type": "stream",
     "text": [
      "{'proj_a': {'lang': 'Python', 'city': 'Stockholm', 'start': 2022}, 'proj_b': {'lang': 'C/C++', 'city': 'Uppsala', 'start': 2023}, 'proj_c': {'lang': 'Julia', 'city': 'Linkoping', 'start': 2024}}\n"
     ]
    }
   ],
   "source": [
    "with open(\"proj_lang_output.txt\", 'r') as file:\n",
    "    for content in file:\n",
    "        print(content)"
   ]
  },
  {
   "cell_type": "code",
   "execution_count": 5,
   "id": "9866adb1",
   "metadata": {},
   "outputs": [
    {
     "data": {
      "text/plain": [
       "str"
      ]
     },
     "execution_count": 5,
     "metadata": {},
     "output_type": "execute_result"
    }
   ],
   "source": [
    "#for k in content.items(): # gets an error when we try to access its keys or values\n",
    "#    print(k, v)\n",
    "\n",
    "type(content) # because the nested dictionary is now being printed as a string"
   ]
  },
  {
   "cell_type": "markdown",
   "id": "74e73a0d",
   "metadata": {},
   "source": [
    "# Pickle"
   ]
  },
  {
   "cell_type": "code",
   "execution_count": 6,
   "id": "484e747d",
   "metadata": {},
   "outputs": [
    {
     "name": "stdout",
     "output_type": "stream",
     "text": [
      "b'\\x80\\x04\\x95\\x92\\x00\\x00\\x00\\x00\\x00\\x00\\x00}\\x94(\\x8c\\x06proj_a\\x94}\\x94(\\x8c\\x04lang\\x94\\x8c\\x06Python\\x94\\x8c\\x04city\\x94\\x8c\\tStockholm\\x94\\x8c\\x05start\\x94M\\xe6\\x07u\\x8c\\x06proj_b\\x94}\\x94(h\\x03\\x8c\\x05C/C++\\x94h\\x05\\x8c\\x07Uppsala\\x94h\\x07M\\xe7\\x07u\\x8c\\x06proj_c\\x94}\\x94(h\\x03\\x8c\\x05Julia\\x94h\\x05\\x8c\\tLinkoping\\x94h\\x07M\\xe8\\x07uu.'\n"
     ]
    }
   ],
   "source": [
    "import pickle # pickle transform data/object to byte-string\n",
    "\n",
    "print(pickle.dumps(proj_lang)) # the output of `dumps` is byte string"
   ]
  },
  {
   "cell_type": "code",
   "execution_count": 7,
   "id": "82d3ec94",
   "metadata": {},
   "outputs": [
    {
     "name": "stdout",
     "output_type": "stream",
     "text": [
      "{'proj_a': {'lang': 'Python', 'city': 'Stockholm', 'start': 2022}, 'proj_b': {'lang': 'C/C++', 'city': 'Uppsala', 'start': 2023}, 'proj_c': {'lang': 'Julia', 'city': 'Linkoping', 'start': 2024}}\n",
      "\n",
      "<class 'dict'>\n"
     ]
    }
   ],
   "source": [
    "print(proj_lang, end='\\n\\n')\n",
    "print(type(proj_lang))"
   ]
  },
  {
   "cell_type": "code",
   "execution_count": 8,
   "id": "abe4e09d",
   "metadata": {},
   "outputs": [],
   "source": [
    "with open('proj_lang_pickle_output.pkl', 'wb') as fileout:  # extension does not have to be .pkl\n",
    "    pickle.dump(proj_lang, fileout) # serialize the dictionary"
   ]
  },
  {
   "cell_type": "code",
   "execution_count": 9,
   "id": "2b4fc443",
   "metadata": {},
   "outputs": [
    {
     "name": "stdout",
     "output_type": "stream",
     "text": [
      "{'proj_a': {'lang': 'Python', 'city': 'Stockholm', 'start': 2022}, 'proj_b': {'lang': 'C/C++', 'city': 'Uppsala', 'start': 2023}, 'proj_c': {'lang': 'Julia', 'city': 'Linkoping', 'start': 2024}}\n",
      "\n",
      "<class 'dict'>\n",
      "\n",
      "proj_a ||| {'lang': 'Python', 'city': 'Stockholm', 'start': 2022}\n",
      "proj_b ||| {'lang': 'C/C++', 'city': 'Uppsala', 'start': 2023}\n",
      "proj_c ||| {'lang': 'Julia', 'city': 'Linkoping', 'start': 2024}\n"
     ]
    }
   ],
   "source": [
    "try:\n",
    "    filein = open('proj_lang_pickle_output.pkl', 'rb')\n",
    "finally:\n",
    "    temp = pickle.load(filein)\n",
    "    print(temp, end='\\n\\n')\n",
    "    print(type(temp), end='\\n\\n')\n",
    "    for k, v in temp.items():\n",
    "        print(k, v, sep=' ||| ')\n",
    "    filein.close()"
   ]
  },
  {
   "cell_type": "code",
   "execution_count": 10,
   "id": "f17b0e1c",
   "metadata": {},
   "outputs": [
    {
     "name": "stdout",
     "output_type": "stream",
     "text": [
      "True\n"
     ]
    }
   ],
   "source": [
    "print(proj_lang == temp)"
   ]
  },
  {
   "cell_type": "markdown",
   "id": "c451d6bc",
   "metadata": {},
   "source": [
    "# Timing for writting and reading CSV and Pickle files"
   ]
  },
  {
   "cell_type": "code",
   "execution_count": 11,
   "id": "743d8923",
   "metadata": {},
   "outputs": [
    {
     "name": "stdout",
     "output_type": "stream",
     "text": [
      "Array shape: (10, 10)\n",
      "Data type: <class 'numpy.ndarray'>\n"
     ]
    }
   ],
   "source": [
    "# serialize and deserialize the Numpy arrays\n",
    "\n",
    "import numpy as np\n",
    "\n",
    "numpy_array = np.ones((10,10)) # 10x10 array\n",
    "\n",
    "with open('numpy_array.pkl','wb') as fileout:\n",
    "    pickle.dump(numpy_array, fileout)\n",
    "\n",
    "with open('numpy_array.pkl','rb') as filein:\n",
    "    unpickled_array = pickle.load(filein)\n",
    "    print('Array shape: '+str(unpickled_array.shape))\n",
    "    print('Data type: '+str(type(unpickled_array)))"
   ]
  },
  {
   "cell_type": "code",
   "execution_count": 12,
   "id": "82e7cdce",
   "metadata": {},
   "outputs": [],
   "source": [
    "# serialize and deserialize a Pandas dataframe\n",
    "\n",
    "import pandas as pd\n",
    "import numpy as np\n",
    "\n",
    "# Set random seed\n",
    "np.random.seed(123)\n",
    "\n",
    "data = {'Column1': np.random.randint(0, 10, size=100000),\n",
    "        'Column2': np.random.choice(['A', 'B', 'C'], size=100000),\n",
    "        'Column3': np.random.rand(100000)}\n",
    "\n",
    "df = pd.DataFrame(data) # create Pandas dataframe"
   ]
  },
  {
   "cell_type": "code",
   "execution_count": 13,
   "id": "8dd4acb0",
   "metadata": {},
   "outputs": [
    {
     "name": "stdout",
     "output_type": "stream",
     "text": [
      "Elapsed time for saving a csv file : 0.1548299789428711\n",
      "Elapsed time for pickle            : 0.002086162567138672\n"
     ]
    }
   ],
   "source": [
    "# timing for saving this dataframe as a csv file and as a pickle file\n",
    "\n",
    "import time\n",
    "\n",
    "start = time.time()\n",
    "df.to_csv('pandas_dataframe.csv')\n",
    "end = time.time()\n",
    "\n",
    "print(\"Elapsed time for saving a csv file :\", end - start)\n",
    "\n",
    "start = time.time()\n",
    "df.to_pickle(\"pandas_dataframe.pkl\")\n",
    "end = time.time()\n",
    "\n",
    "print(\"Elapsed time for pickle            :\", end - start)"
   ]
  },
  {
   "cell_type": "code",
   "execution_count": 14,
   "id": "3252d42b",
   "metadata": {},
   "outputs": [
    {
     "name": "stdout",
     "output_type": "stream",
     "text": [
      "Time taken to read the csv file:    0.016301870346069336\n",
      "Time taken to read the Pickle file:  0.0019116401672363281\n"
     ]
    }
   ],
   "source": [
    "# time for reading csv and pickle files\n",
    "\n",
    "# Reading the csv file into Pandas:\n",
    "\n",
    "start = time.time()\n",
    "df_csv = pd.read_csv(\"pandas_dataframe.csv\")\n",
    "end = time.time()\n",
    "print(\"Time taken to read the csv file:   \", end-start)\n",
    "\n",
    "# Reading the Pickle file into Pandas:\n",
    "\n",
    "start = time.time()\n",
    "df_pkl = pd.read_pickle(\"pandas_dataframe.pkl\")\n",
    "end = time.time()\n",
    "print(\"Time taken to read the Pickle file: \", end-start)"
   ]
  },
  {
   "cell_type": "code",
   "execution_count": null,
   "id": "859c505b",
   "metadata": {},
   "outputs": [],
   "source": []
  }
 ],
 "metadata": {
  "kernelspec": {
   "display_name": "Python 3 (ipykernel)",
   "language": "python",
   "name": "python3"
  },
  "language_info": {
   "codemirror_mode": {
    "name": "ipython",
    "version": 3
   },
   "file_extension": ".py",
   "mimetype": "text/x-python",
   "name": "python",
   "nbconvert_exporter": "python",
   "pygments_lexer": "ipython3",
   "version": "3.10.9"
  }
 },
 "nbformat": 4,
 "nbformat_minor": 5
}
