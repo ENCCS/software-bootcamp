{
 "cells": [
  {
   "cell_type": "markdown",
   "id": "e2f6d368",
   "metadata": {},
   "source": [
    "# What is a data format?"
   ]
  },
  {
   "cell_type": "markdown",
   "id": "17815b7b",
   "metadata": {},
   "source": [
    "## Case I: "
   ]
  },
  {
   "cell_type": "code",
   "execution_count": 1,
   "id": "67732912",
   "metadata": {},
   "outputs": [],
   "source": [
    "import pandas as pd\n",
    "import numpy as np\n",
    "\n",
    "n_rows = 100"
   ]
  },
  {
   "cell_type": "code",
   "execution_count": 2,
   "id": "3847d91d",
   "metadata": {},
   "outputs": [],
   "source": [
    "dataset = pd.DataFrame(\n",
    "    data={\n",
    "        'string': np.random.choice(('Python', 'C/C++', 'Julia', 'Fortran', 'Rust'), size=n_rows),\n",
    "        'timestamp': pd.date_range(\"20231107\", periods=n_rows, freq=\"s\"),\n",
    "        'integer': np.random.choice(range(0,10), size=n_rows),\n",
    "        'float': np.random.uniform(size=n_rows),\n",
    "    },\n",
    ")"
   ]
  },
  {
   "cell_type": "code",
   "execution_count": 3,
   "id": "ad389743",
   "metadata": {},
   "outputs": [
    {
     "name": "stdout",
     "output_type": "stream",
     "text": [
      "<class 'pandas.core.frame.DataFrame'>\n",
      "RangeIndex: 100 entries, 0 to 99\n",
      "Data columns (total 4 columns):\n",
      " #   Column     Non-Null Count  Dtype         \n",
      "---  ------     --------------  -----         \n",
      " 0   string     100 non-null    object        \n",
      " 1   timestamp  100 non-null    datetime64[ns]\n",
      " 2   integer    100 non-null    int64         \n",
      " 3   float      100 non-null    float64       \n",
      "dtypes: datetime64[ns](1), float64(1), int64(1), object(1)\n",
      "memory usage: 3.2+ KB\n"
     ]
    }
   ],
   "source": [
    "dataset.info()"
   ]
  },
  {
   "cell_type": "code",
   "execution_count": 4,
   "id": "0dfc0aed",
   "metadata": {},
   "outputs": [
    {
     "data": {
      "text/html": [
       "<div>\n",
       "<style scoped>\n",
       "    .dataframe tbody tr th:only-of-type {\n",
       "        vertical-align: middle;\n",
       "    }\n",
       "\n",
       "    .dataframe tbody tr th {\n",
       "        vertical-align: top;\n",
       "    }\n",
       "\n",
       "    .dataframe thead th {\n",
       "        text-align: right;\n",
       "    }\n",
       "</style>\n",
       "<table border=\"1\" class=\"dataframe\">\n",
       "  <thead>\n",
       "    <tr style=\"text-align: right;\">\n",
       "      <th></th>\n",
       "      <th>string</th>\n",
       "      <th>timestamp</th>\n",
       "      <th>integer</th>\n",
       "      <th>float</th>\n",
       "    </tr>\n",
       "  </thead>\n",
       "  <tbody>\n",
       "    <tr>\n",
       "      <th>0</th>\n",
       "      <td>Julia</td>\n",
       "      <td>2023-11-07 00:00:00</td>\n",
       "      <td>9</td>\n",
       "      <td>0.510771</td>\n",
       "    </tr>\n",
       "    <tr>\n",
       "      <th>1</th>\n",
       "      <td>Rust</td>\n",
       "      <td>2023-11-07 00:00:01</td>\n",
       "      <td>6</td>\n",
       "      <td>0.854238</td>\n",
       "    </tr>\n",
       "    <tr>\n",
       "      <th>2</th>\n",
       "      <td>Julia</td>\n",
       "      <td>2023-11-07 00:00:02</td>\n",
       "      <td>9</td>\n",
       "      <td>0.496505</td>\n",
       "    </tr>\n",
       "    <tr>\n",
       "      <th>3</th>\n",
       "      <td>Rust</td>\n",
       "      <td>2023-11-07 00:00:03</td>\n",
       "      <td>7</td>\n",
       "      <td>0.518426</td>\n",
       "    </tr>\n",
       "    <tr>\n",
       "      <th>4</th>\n",
       "      <td>Rust</td>\n",
       "      <td>2023-11-07 00:00:04</td>\n",
       "      <td>8</td>\n",
       "      <td>0.736142</td>\n",
       "    </tr>\n",
       "    <tr>\n",
       "      <th>...</th>\n",
       "      <td>...</td>\n",
       "      <td>...</td>\n",
       "      <td>...</td>\n",
       "      <td>...</td>\n",
       "    </tr>\n",
       "    <tr>\n",
       "      <th>95</th>\n",
       "      <td>Fortran</td>\n",
       "      <td>2023-11-07 00:01:35</td>\n",
       "      <td>0</td>\n",
       "      <td>0.654922</td>\n",
       "    </tr>\n",
       "    <tr>\n",
       "      <th>96</th>\n",
       "      <td>Julia</td>\n",
       "      <td>2023-11-07 00:01:36</td>\n",
       "      <td>4</td>\n",
       "      <td>0.691460</td>\n",
       "    </tr>\n",
       "    <tr>\n",
       "      <th>97</th>\n",
       "      <td>Julia</td>\n",
       "      <td>2023-11-07 00:01:37</td>\n",
       "      <td>7</td>\n",
       "      <td>0.972603</td>\n",
       "    </tr>\n",
       "    <tr>\n",
       "      <th>98</th>\n",
       "      <td>Fortran</td>\n",
       "      <td>2023-11-07 00:01:38</td>\n",
       "      <td>9</td>\n",
       "      <td>0.275145</td>\n",
       "    </tr>\n",
       "    <tr>\n",
       "      <th>99</th>\n",
       "      <td>Rust</td>\n",
       "      <td>2023-11-07 00:01:39</td>\n",
       "      <td>4</td>\n",
       "      <td>0.634709</td>\n",
       "    </tr>\n",
       "  </tbody>\n",
       "</table>\n",
       "<p>100 rows × 4 columns</p>\n",
       "</div>"
      ],
      "text/plain": [
       "     string           timestamp  integer     float\n",
       "0     Julia 2023-11-07 00:00:00        9  0.510771\n",
       "1      Rust 2023-11-07 00:00:01        6  0.854238\n",
       "2     Julia 2023-11-07 00:00:02        9  0.496505\n",
       "3      Rust 2023-11-07 00:00:03        7  0.518426\n",
       "4      Rust 2023-11-07 00:00:04        8  0.736142\n",
       "..      ...                 ...      ...       ...\n",
       "95  Fortran 2023-11-07 00:01:35        0  0.654922\n",
       "96    Julia 2023-11-07 00:01:36        4  0.691460\n",
       "97    Julia 2023-11-07 00:01:37        7  0.972603\n",
       "98  Fortran 2023-11-07 00:01:38        9  0.275145\n",
       "99     Rust 2023-11-07 00:01:39        4  0.634709\n",
       "\n",
       "[100 rows x 4 columns]"
      ]
     },
     "execution_count": 4,
     "metadata": {},
     "output_type": "execute_result"
    }
   ],
   "source": [
    "dataset"
   ]
  },
  {
   "cell_type": "markdown",
   "id": "2c357be5",
   "metadata": {},
   "source": [
    "## Case 2: 2D matrix"
   ]
  },
  {
   "cell_type": "code",
   "execution_count": 5,
   "id": "e36bbc6c",
   "metadata": {},
   "outputs": [],
   "source": [
    "n = 100\n",
    "data_array = np.random.uniform(size=(n,n))"
   ]
  },
  {
   "cell_type": "code",
   "execution_count": 6,
   "id": "2194f33a",
   "metadata": {},
   "outputs": [
    {
     "name": "stdout",
     "output_type": "stream",
     "text": [
      "class:  ndarray\n",
      "shape:  (100, 100)\n",
      "strides:  (800, 8)\n",
      "itemsize:  8\n",
      "aligned:  True\n",
      "contiguous:  True\n",
      "fortran:  False\n",
      "data pointer: 0x128080000\n",
      "byteorder:  little\n",
      "byteswap:  False\n",
      "type: float64\n"
     ]
    }
   ],
   "source": [
    "np.info(data_array)"
   ]
  },
  {
   "cell_type": "code",
   "execution_count": 7,
   "id": "3aa042e7",
   "metadata": {},
   "outputs": [
    {
     "data": {
      "text/plain": [
       "array([[0.25262932, 0.73094171, 0.29586276, ..., 0.11120194, 0.10545683,\n",
       "        0.13202983],\n",
       "       [0.01833595, 0.20387415, 0.19226489, ..., 0.71060202, 0.6474888 ,\n",
       "        0.62997854],\n",
       "       [0.19776263, 0.69351864, 0.59860111, ..., 0.79547025, 0.81232161,\n",
       "        0.36028388],\n",
       "       ...,\n",
       "       [0.14424406, 0.89133948, 0.96405013, ..., 0.08030253, 0.13785457,\n",
       "        0.25431041],\n",
       "       [0.06875605, 0.1141743 , 0.01264874, ..., 0.91165192, 0.96974007,\n",
       "        0.68120312],\n",
       "       [0.67665551, 0.77951685, 0.63386668, ..., 0.98232773, 0.74174948,\n",
       "        0.08203269]])"
      ]
     },
     "execution_count": 7,
     "metadata": {},
     "output_type": "execute_result"
    }
   ],
   "source": [
    "data_array"
   ]
  },
  {
   "cell_type": "code",
   "execution_count": 8,
   "id": "ad6184e7",
   "metadata": {},
   "outputs": [
    {
     "name": "stdout",
     "output_type": "stream",
     "text": [
      "10000\n",
      "(100, 100)\n"
     ]
    }
   ],
   "source": [
    "print(data_array.size)\n",
    "print(data_array.shape)"
   ]
  },
  {
   "cell_type": "code",
   "execution_count": 9,
   "id": "33cf711a",
   "metadata": {},
   "outputs": [
    {
     "name": "stdout",
     "output_type": "stream",
     "text": [
      "class:  ndarray\n",
      "shape:  (100, 100)\n",
      "strides:  (800, 8)\n",
      "itemsize:  8\n",
      "aligned:  True\n",
      "contiguous:  True\n",
      "fortran:  False\n",
      "data pointer: 0x128080000\n",
      "byteorder:  little\n",
      "byteswap:  False\n",
      "type: float64\n"
     ]
    }
   ],
   "source": [
    "np.info(data_array)"
   ]
  }
 ],
 "metadata": {
  "kernelspec": {
   "display_name": "Python 3 (ipykernel)",
   "language": "python",
   "name": "python3"
  },
  "language_info": {
   "codemirror_mode": {
    "name": "ipython",
    "version": 3
   },
   "file_extension": ".py",
   "mimetype": "text/x-python",
   "name": "python",
   "nbconvert_exporter": "python",
   "pygments_lexer": "ipython3",
   "version": "3.10.9"
  }
 },
 "nbformat": 4,
 "nbformat_minor": 5
}
