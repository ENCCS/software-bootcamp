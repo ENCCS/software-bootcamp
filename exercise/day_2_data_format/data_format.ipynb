{
 "cells": [
  {
   "cell_type": "markdown",
   "id": "e2f6d368",
   "metadata": {},
   "source": [
    "# What is a data format?"
   ]
  },
  {
   "cell_type": "markdown",
   "id": "17815b7b",
   "metadata": {},
   "source": [
    "## Case I: "
   ]
  },
  {
   "cell_type": "code",
   "execution_count": null,
   "id": "67732912",
   "metadata": {},
   "outputs": [],
   "source": [
    "import pandas as pd\n",
    "import numpy as np\n",
    "\n",
    "n_rows = 100"
   ]
  },
  {
   "cell_type": "code",
   "execution_count": null,
   "id": "3847d91d",
   "metadata": {},
   "outputs": [],
   "source": [
    "dataset = pd.DataFrame(\n",
    "    data={\n",
    "        'string': np.random.choice(('Python', 'C/C++', 'Julia', 'Fortran', 'Rust'), size=n_rows),\n",
    "        'timestamp': pd.date_range(\"20231107\", periods=n_rows, freq=\"s\"),\n",
    "        'integer': np.random.choice(range(0,10), size=n_rows),\n",
    "        'float': np.random.uniform(size=n_rows),\n",
    "    },\n",
    ")"
   ]
  },
  {
   "cell_type": "code",
   "execution_count": null,
   "id": "ad389743",
   "metadata": {},
   "outputs": [],
   "source": [
    "dataset.info()"
   ]
  },
  {
   "cell_type": "code",
   "execution_count": null,
   "id": "0dfc0aed",
   "metadata": {},
   "outputs": [],
   "source": [
    "dataset"
   ]
  },
  {
   "cell_type": "markdown",
   "id": "2c357be5",
   "metadata": {},
   "source": [
    "## Case 2: 2D matrix"
   ]
  },
  {
   "cell_type": "code",
   "execution_count": null,
   "id": "e36bbc6c",
   "metadata": {},
   "outputs": [],
   "source": [
    "n = 100\n",
    "data_array = np.random.uniform(size=(n,n))"
   ]
  },
  {
   "cell_type": "code",
   "execution_count": null,
   "id": "2194f33a",
   "metadata": {},
   "outputs": [],
   "source": [
    "np.info(data_array)"
   ]
  },
  {
   "cell_type": "code",
   "execution_count": null,
   "id": "3aa042e7",
   "metadata": {},
   "outputs": [],
   "source": [
    "data_array"
   ]
  },
  {
   "cell_type": "code",
   "execution_count": null,
   "id": "ad6184e7",
   "metadata": {},
   "outputs": [],
   "source": [
    "print(data_array.size)\n",
    "print(data_array.shape)"
   ]
  },
  {
   "cell_type": "code",
   "execution_count": null,
   "id": "33cf711a",
   "metadata": {},
   "outputs": [],
   "source": [
    "np.info(data_array)"
   ]
  }
 ],
 "metadata": {
  "kernelspec": {
   "display_name": "Python 3 (ipykernel)",
   "language": "python",
   "name": "python3"
  },
  "language_info": {
   "codemirror_mode": {
    "name": "ipython",
    "version": 3
   },
   "file_extension": ".py",
   "mimetype": "text/x-python",
   "name": "python",
   "nbconvert_exporter": "python",
   "pygments_lexer": "ipython3",
   "version": "3.10.9"
  }
 },
 "nbformat": 4,
 "nbformat_minor": 5
}
