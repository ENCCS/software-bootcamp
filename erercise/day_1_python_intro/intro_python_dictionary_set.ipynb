{
 "cells": [
  {
   "cell_type": "markdown",
   "id": "411ff07d",
   "metadata": {},
   "source": [
    "# Introduction to Python --- Dictionary"
   ]
  },
  {
   "cell_type": "code",
   "execution_count": 1,
   "id": "d6395db0",
   "metadata": {},
   "outputs": [
    {
     "name": "stdout",
     "output_type": "stream",
     "text": [
      "{}\n",
      "<class 'dict'>\n",
      "{'lang': 'python'}\n",
      "{'lang': 'python', 'form': 'online'}\n",
      "\n",
      "{'lang': 'Shell', 'form': 'onsite', 'place': 'Kista', 'year': 2023}\n",
      "\n",
      "{'a': 1, 'b': 2, 'c': 3} {'a': 1, 'b': 2, 'c': 3} {'a': 1, 'b': 2, 'c': 3} {'a': 1, 'b': 2, 'c': 3}\n",
      "True\n"
     ]
    }
   ],
   "source": [
    "course = dict() # an empty dictionary\n",
    "print(course)\n",
    "print(type(course))\n",
    "course['lang'] = 'python'\n",
    "print(course)\n",
    "course['form'] = 'online'\n",
    "print(course, end='\\n\\n')\n",
    "\n",
    "project = dict(lang='Shell', form='onsite', place='Kista', year=2023)\n",
    "print(project, end='\\n\\n')\n",
    "\n",
    "dict_1 = dict([('a',1), ('b',2), ('c',3)]) # tuple-in-list to a dictionary\n",
    "dict_2 = dict({('a',1), ('b',2), ('c',3)}) # tuple-in-set to a dictionary\n",
    "dict_3 = dict([['a',1], ['b',2], ['c',3]]) # nested list to a dictionary\n",
    "dict_4 = dict((('a',1), ('b',2), ('c',3))) # nested tuple to a dictionary\n",
    "print(dict_1, dict_2, dict_3, dict_4)\n",
    "\n",
    "print(dict_1 == dict_2 and dict_3 == dict_4 and dict_1 == dict_3)"
   ]
  },
  {
   "cell_type": "code",
   "execution_count": 2,
   "id": "16b449fa",
   "metadata": {},
   "outputs": [
    {
     "name": "stdout",
     "output_type": "stream",
     "text": [
      "<zip object at 0x10580c200>\n",
      "Key= Proj_A  and Value=  C\n",
      "Key= Proj_B  and Value=  PYTHON\n",
      "Key= Proj_C  and Value=  FORTRAN\n",
      "Key= Proj_D  and Value=  JULIA\n",
      "\n",
      "{'A': '1', 'B': '9', 'c': '2', 'd': '8', 'E': '3', 'f': '7'}\n",
      "{'A': 11, 'B': 12, 'c': 13, 'd': 14, 'E': 15, 'f': 16}\n"
     ]
    }
   ],
   "source": [
    "# using `zip`\n",
    "lang = ['C', 'Python', 'Fortran', 'Julia', 'Java', 'Rust']\n",
    "proj = ['proj_a', 'proj_b', 'proj_c', 'proj_d']\n",
    "proj_lang = zip(proj, lang)\n",
    "\n",
    "print(proj_lang) # this is a `zip` object\n",
    "for key, value in proj_lang:\n",
    "    print(\"Key=\", key.title(), ' and Value= ', value.upper())\n",
    "print()\n",
    "    \n",
    "dict_a = dict(zip(\"ABcdEf\", '192837465'))\n",
    "print(dict_a)\n",
    "dict_b = dict(zip(\"ABcdEf\", range(11, 100)))\n",
    "print(dict_b)"
   ]
  },
  {
   "cell_type": "code",
   "execution_count": 3,
   "id": "fb1b5f1e",
   "metadata": {},
   "outputs": [
    {
     "name": "stdout",
     "output_type": "stream",
     "text": [
      "{'one': 1, 'two': 2, 'three': 3, 'four': 4}\n",
      "{1: 'one', 2: 'two', 3: 'three', 4: 'four'}\n"
     ]
    }
   ],
   "source": [
    "# dictionary comprehension \n",
    "dict_a = {'one':1, 'two':2, 'three':3, 'four':4}\n",
    "dict_b = {v:k for k, v in dict_a.items()} # make sure that both keys and values are immutable\n",
    "print(dict_a)\n",
    "print(dict_b)"
   ]
  },
  {
   "cell_type": "code",
   "execution_count": 4,
   "id": "c4cc27d6",
   "metadata": {},
   "outputs": [
    {
     "name": "stdout",
     "output_type": "stream",
     "text": [
      "{'proj_a': 'C', 'proj_b': 'Python', 'proj_c': 'Fortran', 'proj_d': 'Julia'}\n",
      "{'proj_a': 'C', 'proj_b': 'Python', 'proj_c': 'Fortran'}\n",
      "{'proj_b': 'Python', 'proj_c': 'Fortran'}\n",
      "{'proj_b': 'Julia + Fortran', 'proj_c': 'Fortran'}\n",
      "{'proj_b': 'Julia + Fortran', 'proj_c': 'Python_JULIA'}\n"
     ]
    }
   ],
   "source": [
    "lang = ['C', 'Python', 'Fortran', 'Julia', 'Java', 'Rust']\n",
    "proj = ['proj_a', 'proj_b', 'proj_c', 'proj_d']\n",
    "dict_proj_lang = dict(zip(proj, lang))\n",
    "print(dict_proj_lang)\n",
    "\n",
    "del dict_proj_lang[\"proj_d\"]\n",
    "print(dict_proj_lang)\n",
    "\n",
    "del dict_proj_lang[\"proj_a\"]\n",
    "print(dict_proj_lang)\n",
    "\n",
    "dict_proj_lang['proj_b'] = 'Julia + Fortran'\n",
    "print(dict_proj_lang)\n",
    "dict_proj_lang['proj_c'] = 'Python_' + 'Julia'.upper()\n",
    "print(dict_proj_lang)"
   ]
  },
  {
   "cell_type": "code",
   "execution_count": 5,
   "id": "287e925c",
   "metadata": {},
   "outputs": [
    {
     "name": "stdout",
     "output_type": "stream",
     "text": [
      "{'proj_a': 'C', 'proj_b': 'Python', 'proj_c': 'Fortran', 'proj_d': 'Julia', 'proj_e': 'Python'}\n",
      "\n",
      "dict_items([('proj_a', 'C'), ('proj_b', 'Python'), ('proj_c', 'Fortran'), ('proj_d', 'Julia'), ('proj_e', 'Python')])\n",
      "<class 'dict_items'>\n",
      "\n",
      "dict_keys(['proj_a', 'proj_b', 'proj_c', 'proj_d', 'proj_e'])\n",
      "<class 'dict_keys'>\n",
      "\n",
      "dict_values(['C', 'Python', 'Fortran', 'Julia', 'Python'])\n",
      "<class 'dict_values'>\n",
      "\n",
      "Key =  proj_a  and Value =  C\n",
      "Key =  proj_b  and Value =  Python\n",
      "Key =  proj_c  and Value =  Fortran\n",
      "Key =  proj_d  and Value =  Julia\n",
      "Key =  proj_e  and Value =  Python\n",
      "\n",
      "Value =  C\n",
      "Value =  Python\n",
      "Value =  Fortran\n",
      "Value =  Julia\n",
      "Value =  Python\n",
      "\n",
      "Value =  Fortran\n",
      "Value =  Python\n",
      "Value =  C\n",
      "Value =  Julia\n"
     ]
    }
   ],
   "source": [
    "# keys(), values(), and items()\n",
    "\n",
    "lang = ['C', 'Python', 'Fortran', 'Julia', 'Python', 'Rust']\n",
    "proj = ['proj_a', 'proj_b', 'proj_c', 'proj_d', 'proj_e']\n",
    "dict_proj_lang = dict(zip(proj, lang))\n",
    "print(dict_proj_lang, end='\\n\\n')\n",
    "\n",
    "temp_items = dict_proj_lang.items()\n",
    "print(temp_items)\n",
    "print(type(temp_items), end='\\n\\n')\n",
    "\n",
    "temp_keys = dict_proj_lang.keys()\n",
    "print(temp_keys)\n",
    "print(type(temp_keys), end='\\n\\n')\n",
    "\n",
    "temp_values = dict_proj_lang.values()\n",
    "print(temp_values)\n",
    "print(type(temp_values), end='\\n\\n')\n",
    "\n",
    "# using for loop to extract all items in `dict_items`, `dict_keys`, and `dict_values`\n",
    "for k, v in temp_items:\n",
    "    print(\"Key = \", k, \" and Value = \", v)\n",
    "print()\n",
    "\n",
    "# for k in temp_keys:\n",
    "# for k in temp_items:\n",
    "# for v in temp_values:\n",
    "for v in temp_values:\n",
    "    print(\"Value = \", v)\n",
    "print()\n",
    "\n",
    "for v in set(temp_values):\n",
    "    print(\"Value = \", v)"
   ]
  },
  {
   "cell_type": "code",
   "execution_count": 6,
   "id": "5ffaf70a",
   "metadata": {},
   "outputs": [
    {
     "name": "stdout",
     "output_type": "stream",
     "text": [
      "{'proj_a': 'Python', 'proj_b': 'Fortran', 'proj_c': 'Julia'}\n",
      "\n",
      "{'proj_a': 'Python', 'proj_b': 'Fortran'}\n",
      "\n",
      "False\n",
      "True\n",
      "{'proj_a': 'Python'}\n",
      "\n",
      "{}\n",
      "\n"
     ]
    }
   ],
   "source": [
    "# del, pop\n",
    "\n",
    "lang = ['Python', 'Fortran', 'Julia']\n",
    "proj = ['proj_a', 'proj_b', 'proj_c']\n",
    "dict_proj_lang = dict(zip(proj, lang))\n",
    "print(dict_proj_lang, end='\\n\\n')\n",
    "\n",
    "del dict_proj_lang['proj_c']\n",
    "print(dict_proj_lang, end='\\n\\n')\n",
    "\n",
    "# del dict_proj_lang['proj_e'] # this is no key with the name `proj_e`, so you will get an error if want to delete a non-exist key in the dictionary\n",
    "# a better way is to check if this key is in in dictionary\n",
    "print('proj_c' in dict_proj_lang)\n",
    "print('proj_b' in dict_proj_lang)\n",
    "if 'proj_b' in dict_proj_lang:\n",
    "    del dict_proj_lang['proj_b']\n",
    "print(dict_proj_lang, end='\\n\\n')\n",
    "\n",
    "if 'proj_a' in dict_proj_lang:\n",
    "    dict_proj_lang.pop('proj_a')\n",
    "print(dict_proj_lang, end='\\n\\n') # now it is an empty dictionary"
   ]
  },
  {
   "cell_type": "code",
   "execution_count": 7,
   "id": "dc1313bb",
   "metadata": {},
   "outputs": [
    {
     "name": "stdout",
     "output_type": "stream",
     "text": [
      "{'proj_a': 'Python', 'proj_b': 'Fortran', 'proj_c': 'Julia'}\n",
      "\n",
      "('proj_c', 'Julia')\n",
      "{'proj_a': 'Python', 'proj_b': 'Fortran'}\n",
      "('proj_b', 'Fortran')\n",
      "{'proj_a': 'Python'}\n",
      "('proj_a', 'Python')\n",
      "{}\n",
      "\n",
      "This is an empty dictionary\n"
     ]
    }
   ],
   "source": [
    "# popitem\n",
    "\n",
    "lang = ['Python', 'Fortran', 'Julia']\n",
    "proj = ['proj_a', 'proj_b', 'proj_c']\n",
    "dict_proj_lang = dict(zip(proj, lang))\n",
    "print(dict_proj_lang, end='\\n\\n')\n",
    "\n",
    "temp = dict_proj_lang.popitem()\n",
    "print(temp)\n",
    "print(dict_proj_lang)\n",
    "temp = dict_proj_lang.popitem()\n",
    "print(temp)\n",
    "print(dict_proj_lang)\n",
    "temp = dict_proj_lang.popitem()\n",
    "print(temp)\n",
    "print(dict_proj_lang)\n",
    "print()\n",
    "\n",
    "# temp = dict_proj_lang.popitem() # gets an error if this dictionary is empty\n",
    "\n",
    "if len(dict_proj_lang) > 0:\n",
    "    temp = dict_proj_lang.popitem()\n",
    "    print(temp)\n",
    "    print(dict_proj_lang)\n",
    "else:\n",
    "    print(\"This is an empty dictionary\")"
   ]
  },
  {
   "cell_type": "code",
   "execution_count": 8,
   "id": "2952c218",
   "metadata": {},
   "outputs": [
    {
     "name": "stdout",
     "output_type": "stream",
     "text": [
      "{'proj_x': 'Python+Julia'}\n"
     ]
    }
   ],
   "source": [
    "# delete the whole dictionary\n",
    "\n",
    "dict_proj_lang['proj_x'] = 'Python+Julia'\n",
    "print(dict_proj_lang)\n",
    "del dict_proj_lang # delete this dictionary\n",
    "\n",
    "# print(dict_proj_lang) # gets an error `NameError: name 'dict_proj_lang' is not defined`"
   ]
  },
  {
   "cell_type": "code",
   "execution_count": 9,
   "id": "82e7943c",
   "metadata": {},
   "outputs": [
    {
     "name": "stdout",
     "output_type": "stream",
     "text": [
      "{'proj_a': 'Python', 'proj_b': 'Fortran', 'proj_c': 'Julia'}\n",
      "\n",
      "Fortran\n",
      "{'proj_a': 'Python', 'proj_b': 'Fortran', 'proj_c': 'Julia'}\n",
      "\n",
      "None\n",
      "{'proj_a': 'Python', 'proj_b': 'Fortran', 'proj_c': 'Julia'}\n",
      "\n",
      "Can not find this key in this dictionary\n",
      "{'proj_a': 'Python', 'proj_b': 'Fortran', 'proj_c': 'Julia'}\n",
      "\n",
      "- - - - - - - - - - - - - - - - - - - - - - - - - - - - - - - - - - - - \n",
      "\n",
      "Fortran\n",
      "{'proj_a': 'Python', 'proj_b': 'Fortran', 'proj_c': 'Julia'}\n",
      "\n",
      "Fortran\n",
      "{'proj_a': 'Python', 'proj_b': 'Fortran', 'proj_c': 'Julia'}\n",
      "\n",
      "lang_NEW\n",
      "{'proj_a': 'Python', 'proj_b': 'Fortran', 'proj_c': 'Julia', 'proj_x': 'lang_NEW'}\n",
      "\n"
     ]
    }
   ],
   "source": [
    "# get and setdefault\n",
    "\n",
    "lang = ['Python', 'Fortran', 'Julia']\n",
    "proj = ['proj_a', 'proj_b', 'proj_c']\n",
    "dict_proj_lang = dict(zip(proj, lang))\n",
    "print(dict_proj_lang, end='\\n\\n')\n",
    "\n",
    "temp = dict_proj_lang.get('proj_b')\n",
    "print(temp)\n",
    "print(dict_proj_lang, end='\\n\\n')\n",
    "\n",
    "temp = dict_proj_lang.get('proj_x') # there is no key named as `proj_x` in this dictionary\n",
    "print(temp)\n",
    "print(dict_proj_lang, end='\\n\\n')\n",
    "\n",
    "temp = dict_proj_lang.get('proj_x', \"Can not find this key in this dictionary\") \n",
    "print(temp)\n",
    "print(dict_proj_lang, end='\\n\\n')\n",
    "\n",
    "print('- - - - ' * 9, end='\\n\\n')\n",
    "\n",
    "temp = dict_proj_lang.setdefault('proj_b') # get the value for `proj_b`\n",
    "print(temp)\n",
    "print(dict_proj_lang, end='\\n\\n')\n",
    "\n",
    "temp = dict_proj_lang.setdefault('proj_b', 'lang_NEW')\n",
    "print(temp)\n",
    "print(dict_proj_lang, end='\\n\\n')\n",
    "\n",
    "temp = dict_proj_lang.setdefault('proj_x', 'lang_NEW') # if the key `proj_x` is not available, add this key to the dictionary and its value is `lang_NEW`\n",
    "print(temp)\n",
    "print(dict_proj_lang, end='\\n\\n')"
   ]
  },
  {
   "cell_type": "code",
   "execution_count": 10,
   "id": "a7e75f44",
   "metadata": {},
   "outputs": [
    {
     "name": "stdout",
     "output_type": "stream",
     "text": [
      "{'proj_a': 'Python', 'proj_b': 'Julia'}\n",
      "{'one': 1, 'two': 2}\n",
      "\n",
      "{'proj_a': 'Python', 'proj_b': 'Julia', 'one': 1, 'two': 2}\n",
      "{'one': 1, 'two': 2}\n",
      "\n"
     ]
    }
   ],
   "source": [
    "# update\n",
    "\n",
    "lang = ['Python', 'Julia']\n",
    "proj = ['proj_a', 'proj_b']\n",
    "dict_a = dict(zip(proj, lang))\n",
    "dict_b = {'one':1, 'two':2}\n",
    "\n",
    "print(dict_a)\n",
    "print(dict_b, end='\\n\\n')\n",
    "\n",
    "dict_a.update(dict_b)\n",
    "print(dict_a)\n",
    "print(dict_b, end='\\n\\n')"
   ]
  },
  {
   "cell_type": "markdown",
   "id": "91d429a9",
   "metadata": {},
   "source": [
    "# Introduction to Python --- Set"
   ]
  },
  {
   "cell_type": "code",
   "execution_count": 11,
   "id": "3b23559a",
   "metadata": {},
   "outputs": [
    {
     "name": "stdout",
     "output_type": "stream",
     "text": [
      "<class 'set'>\n",
      "{'Rust', 'Fortran', 'Python', 'C', 'Julia'}\n",
      "{'Rust', 'Fortran', 'Python', 'C', 'Julia'}\n",
      "\n",
      "{1, 2.3, 'a', 'hello', ('x', 'tuple')}\n",
      "\n",
      "['a', 'b', 'c', 'd', 'e', 'e', 'd', 'b', 'c', 'a']\n",
      "{'a', 'c', 'd', 'b', 'e'}\n"
     ]
    }
   ],
   "source": [
    "set_empty = set()\n",
    "print(type(set_empty))\n",
    "\n",
    "list_lang = ['Python', 'C','Fortran', 'Julia', 'Julia', 'Rust', 'C']\n",
    "set_lang_1 = set(list_lang)\n",
    "set_lang_2 = {'Python', 'C','Fortran', 'Julia', 'Julia', 'Rust', 'C'}\n",
    "print(set_lang_1)\n",
    "print(set_lang_2, end='\\n\\n')\n",
    "\n",
    "set_x = {1, 2.3, 'a', \"hello\", ('x', 'tuple')} # nested\n",
    "print(set_x, end='\\n\\n')\n",
    "\n",
    "# set_x = {1, 2.3, 'a', \"hello\", ('x', 'tuple'), ['x', 'list']} # TypeError: unhashable type: 'list'\n",
    "# All items in a set should be `hashable`\n",
    "\n",
    "list_string = list(\"abcdeedbca\")\n",
    "set_string = set(\"abcdeedbca\")\n",
    "print(list_string)\n",
    "print(set_string)"
   ]
  },
  {
   "cell_type": "code",
   "execution_count": 12,
   "id": "58925526",
   "metadata": {},
   "outputs": [
    {
     "name": "stdout",
     "output_type": "stream",
     "text": [
      "{'a', 'c', 'd', 'b', 'e'}\n",
      "{'a', 'c', 'f', 'd', 'b', 'e'}\n",
      "{'a', 'c', 'f', 'agcdghi', 'd', 'b', 'e'}\n",
      "\n",
      "{'c', 'f', 'agcdghi', 'd', 'b', 'e'}\n",
      "{'f', 'agcdghi', 'd', 'b', 'e'}\n",
      "\n",
      "{'f', 'agcdghi', 'd', 'b', 'e'}\n",
      "\n",
      "set()\n",
      "\n"
     ]
    }
   ],
   "source": [
    "# add, pop, remove, clear\n",
    "\n",
    "set_string = set(\"abcdeedbca\")\n",
    "print(set_string)\n",
    "set_string.add('f')\n",
    "print(set_string)\n",
    "set_string.add('agcdghi')\n",
    "print(set_string, end='\\n\\n')\n",
    "\n",
    "set_string.pop()\n",
    "print(set_string)\n",
    "set_string.pop()\n",
    "print(set_string, end='\\n\\n')\n",
    "\n",
    "# set_string.remove('xyz') # gets an error if there is no such item\n",
    "if 'xyz' in set_string:\n",
    "    set_string.remove('xyz')\n",
    "if 'c' in set_string:\n",
    "    set_string.remove('c')\n",
    "print(set_string, end='\\n\\n')\n",
    "\n",
    "set_string.clear()\n",
    "print(set_string, end='\\n\\n')"
   ]
  },
  {
   "cell_type": "code",
   "execution_count": 13,
   "id": "8aa509c7",
   "metadata": {},
   "outputs": [
    {
     "name": "stdout",
     "output_type": "stream",
     "text": [
      "{1, 3, 5, 7, 9} {1, 4, 6, 8, 9} {1, 3, 4, 5, 6, 7, 8, 9}\n",
      "{1, 3, 5, 7, 9} {1, 4, 6, 8, 9} {1, 3, 4, 5, 6, 7, 8, 9}\n",
      "\n",
      "{1, 3, 5, 7, 9} {1, 4, 6, 8, 9} {1, 9}\n",
      "{1, 3, 5, 7, 9} {1, 4, 6, 8, 9} {1, 9}\n",
      "\n",
      "{1, 3, 5, 7, 9} {1, 4, 6, 8, 9} {3, 5, 7}\n",
      "{1, 3, 5, 7, 9} {1, 4, 6, 8, 9} {8, 4, 6}\n",
      "\n",
      "{1, 3, 5, 7, 9} {1, 4, 6, 8, 9} {3, 4, 5, 6, 7, 8}\n",
      "{1, 3, 5, 7, 9} {1, 4, 6, 8, 9} {3, 4, 5, 6, 7, 8}\n",
      "\n"
     ]
    }
   ],
   "source": [
    "# union(|), intersection(&), difference(-), symmetric_difference(^)\n",
    "\n",
    "set1 = {1, 3, 5, 7, 9}\n",
    "set2 = {1, 4, 6, 8, 9}\n",
    "\n",
    "set3 = set1 | set2\n",
    "print(set1, set2, set3)\n",
    "set4 = set1.union(set2)\n",
    "print(set1, set2, set4, end='\\n\\n')\n",
    "\n",
    "set3 = set1 & set2\n",
    "print(set1, set2, set3)\n",
    "set4 = set1.intersection(set2)\n",
    "print(set1, set2, set4, end='\\n\\n')\n",
    "\n",
    "set3 = set1 - set2 # set1-set2 is different to set2-set1\n",
    "print(set1, set2, set3)\n",
    "set4 = set2 - set1\n",
    "print(set1, set2, set4, end='\\n\\n')\n",
    "\n",
    "set3 = set1 ^ set2\n",
    "print(set1, set2, set3)\n",
    "set4 = set1.symmetric_difference(set2)\n",
    "print(set1, set2, set4, end='\\n\\n')"
   ]
  },
  {
   "cell_type": "code",
   "execution_count": 14,
   "id": "f15c164c",
   "metadata": {},
   "outputs": [
    {
     "name": "stdout",
     "output_type": "stream",
     "text": [
      "{1, 3, 4, 5, 6, 7, 8, 9} {1, 4, 6, 8, 9}\n",
      "\n",
      "{1, 9} {1, 4, 6, 8, 9}\n",
      "\n",
      "{3, 5, 7} {1, 4, 6, 8, 9}\n",
      "\n",
      "{3, 4, 5, 6, 7, 8} {1, 4, 6, 8, 9}\n",
      "\n"
     ]
    }
   ],
   "source": [
    "# update(|=), intersection_update(&=), difference_update(-=), symmetric_difference_update(^=)\n",
    "\n",
    "set1 = {1, 3, 5, 7, 9}\n",
    "set2 = {1, 4, 6, 8, 9}\n",
    "set1.update(set2) # equals to set1 |= set2\n",
    "print(set1, set2, end='\\n\\n')\n",
    "\n",
    "set1 = {1, 3, 5, 7, 9}\n",
    "set2 = {1, 4, 6, 8, 9}\n",
    "set1.intersection_update(set2) # equals to set1 &= set2\n",
    "print(set1, set2, end='\\n\\n')\n",
    "\n",
    "set1 = {1, 3, 5, 7, 9}\n",
    "set2 = {1, 4, 6, 8, 9}\n",
    "set1.difference_update(set2) # equals to set1 -= set2\n",
    "print(set1, set2, end='\\n\\n')\n",
    "\n",
    "set1 = {1, 3, 5, 7, 9}\n",
    "set2 = {1, 4, 6, 8, 9}\n",
    "set1.symmetric_difference_update(set2) # equals to set1 ^= set2\n",
    "print(set1, set2, end='\\n\\n')"
   ]
  },
  {
   "cell_type": "code",
   "execution_count": 15,
   "id": "24d457a1",
   "metadata": {},
   "outputs": [
    {
     "name": "stdout",
     "output_type": "stream",
     "text": [
      "True\n",
      "True\n"
     ]
    }
   ],
   "source": [
    "# issubset, issuperset\n",
    "\n",
    "set1 = {1, 3, 5}\n",
    "set2 = {1, 3, 4, 5, 6, 8, 9}\n",
    "print(set1.issubset(set2)) # set1 is a subset of set2\n",
    "print(set2.issuperset(set1)) # set2 is a superset of set1"
   ]
  }
 ],
 "metadata": {
  "kernelspec": {
   "display_name": "Python 3 (ipykernel)",
   "language": "python",
   "name": "python3"
  },
  "language_info": {
   "codemirror_mode": {
    "name": "ipython",
    "version": 3
   },
   "file_extension": ".py",
   "mimetype": "text/x-python",
   "name": "python",
   "nbconvert_exporter": "python",
   "pygments_lexer": "ipython3",
   "version": "3.10.9"
  }
 },
 "nbformat": 4,
 "nbformat_minor": 5
}
