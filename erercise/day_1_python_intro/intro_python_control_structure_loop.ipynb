{
 "cells": [
  {
   "cell_type": "markdown",
   "id": "90d3c534",
   "metadata": {},
   "source": [
    "# Introduction to Python --- Control Structures & Loops"
   ]
  },
  {
   "cell_type": "code",
   "execution_count": 1,
   "id": "0146902f",
   "metadata": {},
   "outputs": [
    {
     "name": "stdout",
     "output_type": "stream",
     "text": [
      "x is 2\n"
     ]
    }
   ],
   "source": [
    "# if statement\n",
    "\n",
    "x = 2\n",
    "if x == 3:\n",
    "    print('x is 3')\n",
    "elif x == 2:\n",
    "    print('x is 2')\n",
    "else:\n",
    "    print('x is something else')"
   ]
  },
  {
   "cell_type": "code",
   "execution_count": 2,
   "id": "6f84f027",
   "metadata": {},
   "outputs": [
    {
     "name": "stdout",
     "output_type": "stream",
     "text": [
      "1\n",
      "2\n",
      "Fizz\n",
      "4\n",
      "Buzz\n",
      "Fizz\n",
      "7\n",
      "8\n",
      "Fizz\n",
      "Buzz\n",
      "11\n",
      "Fizz\n",
      "13\n",
      "14\n",
      "FizzBuzz\n",
      "16\n",
      "17\n",
      "Fizz\n",
      "19\n"
     ]
    }
   ],
   "source": [
    "# for loop + if statement\n",
    "\n",
    "for num in range(1, 20):\n",
    "    string = \"\"\n",
    "    if num % 3 == 0:\n",
    "        string = string + \"Fizz\"\n",
    "    if num % 5 == 0:\n",
    "        string = string + \"Buzz\"\n",
    "    if num % 3 != 0 and num % 5 != 0:\n",
    "        string = string + str(num)\n",
    "    print(string)"
   ]
  },
  {
   "cell_type": "code",
   "execution_count": 3,
   "id": "9278ecd3",
   "metadata": {},
   "outputs": [
    {
     "name": "stdout",
     "output_type": "stream",
     "text": [
      "14 105\n"
     ]
    }
   ],
   "source": [
    "# while loop\n",
    "\n",
    "var, summ = 0, 0\n",
    "while summ <= 100:\n",
    "    var += 1\n",
    "    summ += var\n",
    "print(var, summ)"
   ]
  },
  {
   "cell_type": "code",
   "execution_count": null,
   "id": "9729a593",
   "metadata": {},
   "outputs": [],
   "source": []
  }
 ],
 "metadata": {
  "kernelspec": {
   "display_name": "Python 3 (ipykernel)",
   "language": "python",
   "name": "python3"
  },
  "language_info": {
   "codemirror_mode": {
    "name": "ipython",
    "version": 3
   },
   "file_extension": ".py",
   "mimetype": "text/x-python",
   "name": "python",
   "nbconvert_exporter": "python",
   "pygments_lexer": "ipython3",
   "version": "3.10.9"
  }
 },
 "nbformat": 4,
 "nbformat_minor": 5
}
