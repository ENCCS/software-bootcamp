{
 "cells": [
  {
   "cell_type": "markdown",
   "id": "9ff9342d",
   "metadata": {},
   "source": [
    "# Introduction to Python --- List"
   ]
  },
  {
   "cell_type": "code",
   "execution_count": 1,
   "id": "46c9e925",
   "metadata": {},
   "outputs": [
    {
     "name": "stdout",
     "output_type": "stream",
     "text": [
      "['Python', 'Fortran', 'C', 'Julia', 'Java']\n",
      "<class 'list'>\n"
     ]
    }
   ],
   "source": [
    "langs = ['Python', 'Fortran', 'C', 'Julia', 'Java']\n",
    "projs = ['ProjA', 'ProjB', 'ProjC', 'ProjD', 'ProjE']\n",
    "print(langs)\n",
    "print(type(langs))"
   ]
  },
  {
   "cell_type": "code",
   "execution_count": 2,
   "id": "f5c3089e",
   "metadata": {},
   "outputs": [
    {
     "name": "stdout",
     "output_type": "stream",
     "text": [
      "['Python', 'C++', 'Fortran', 'Julia', 'Rust']\n",
      "['a', 'b', 'c', 'd', 'e', 'f']\n"
     ]
    }
   ],
   "source": [
    "str_a = 'Python/C++/Fortran/Julia/Rust'\n",
    "lst_lang = str_a.split('/')\n",
    "print(lst_lang)\n",
    "\n",
    "str_b = 'abcdef'\n",
    "lst_char = list(str_b)\n",
    "print(lst_char)"
   ]
  },
  {
   "cell_type": "code",
   "execution_count": 3,
   "id": "0c72d719",
   "metadata": {},
   "outputs": [
    {
     "name": "stdout",
     "output_type": "stream",
     "text": [
      "[0, 1, 2, 3, 4, 5, 6, 7, 8]\n",
      "[0, 2, 4, 6, 8]\n",
      "[0, -1, 2, -3, 4, -5, 6, -7, 8]\n"
     ]
    }
   ],
   "source": [
    "# using list comprehension\n",
    "\n",
    "lst_a = [x for x in range(9)]\n",
    "print(lst_a)\n",
    "lst_b = [x for x in range(9) if x%2 == 0]\n",
    "print(lst_b)\n",
    "lst_c = [x if x%2 == 0 else -x for x in range(9)]\n",
    "print(lst_c)"
   ]
  },
  {
   "cell_type": "code",
   "execution_count": 4,
   "id": "d7812fb3",
   "metadata": {},
   "outputs": [
    {
     "name": "stdout",
     "output_type": "stream",
     "text": [
      "['Python 2.7', 'Python 3.6', 'Python 3.12']\n",
      "Python 3.6\n",
      "\n",
      "[['C', 'Python', 'Fortran'], ['VerA', 'VerB', 'VerC']]\n",
      "\n",
      "[['C', 'VerA'], ['C', 'VerB'], ['C', 'VerC'], ['Python', 'VerA'], ['Python', 'VerB'], ['Python', 'VerC'], ['Fortran', 'VerA'], ['Fortran', 'VerB'], ['Fortran', 'VerC']]\n",
      "\n",
      "[('C', 'VerA'), ('Python', 'VerB'), ('Fortran', 'VerC')]\n"
     ]
    }
   ],
   "source": [
    "# nested list\n",
    "\n",
    "langs = [\n",
    "    ['C 89', 'C 99', 'C 11', 'C17'], \n",
    "    ['Python 2.7', 'Python 3.6', 'Python 3.12'], \n",
    "    ['Fortran 77', 'Fortran 90', 'Fortran 03']\n",
    "]\n",
    "print(langs[1])\n",
    "print(langs[1][1])\n",
    "print()\n",
    "\n",
    "langs = ['C', 'Python', 'Fortran']\n",
    "vers = ['VerA', 'VerB', 'VerC']\n",
    "lang_ver_1 = [langs, vers]\n",
    "print(lang_ver_1, end='\\n\\n')\n",
    "lang_ver_2 = [[lang, ver] for lang in langs for ver in vers]\n",
    "print(lang_ver_2, end='\\n\\n')\n",
    "lang_ver_3 = list(zip(langs, vers))\n",
    "print(lang_ver_3)"
   ]
  },
  {
   "cell_type": "markdown",
   "id": "cffe482a",
   "metadata": {},
   "source": [
    "## Methods for List"
   ]
  },
  {
   "cell_type": "code",
   "execution_count": 5,
   "id": "346fa0e8",
   "metadata": {},
   "outputs": [
    {
     "name": "stdout",
     "output_type": "stream",
     "text": [
      "[1, 3, 5, 7, 9, 11, 13, 15, 17, 19]\n",
      "[3, 5, 7, 9, 11]\n",
      "[11, 13, 15, 17, 19]\n"
     ]
    }
   ],
   "source": [
    "# slicing\n",
    "\n",
    "lst_a = [x for x in range(20) if x%2 == 1]\n",
    "print(lst_a)\n",
    "print(lst_a[1:6])\n",
    "print(lst_a[5:])"
   ]
  },
  {
   "cell_type": "code",
   "execution_count": 6,
   "id": "d011b913",
   "metadata": {},
   "outputs": [
    {
     "name": "stdout",
     "output_type": "stream",
     "text": [
      "[1, 3, 5, 7, 9, 11, 13, 15, 17, 19, 21]\n",
      "[1, 3, 5, 7, 9, 11, 13, 15, 17, 19, 21, 23]\n",
      "[-1, 1, 3, 5, 7, 9, 11, 13, 15, 17, 19, 21, 23]\n",
      "[-1, 1, 3, 5, 7, 100, 9, 11, 13, 15, 17, 19, 21, 23]\n",
      "\n",
      "[-1, 1, 3, 5, 7, 100, 9, 11, 13, 15, 17, 19, 21]\n",
      "[-1, 1, 3, 5, 7, 100, 9, 11, 13, 15, 17, 19]\n",
      "[1, 3, 5, 7, 100, 9, 11, 13, 15, 17, 19]\n",
      "\n",
      "[1, 3, 5, 7, 9, 11, 13, 15, 17, 19]\n",
      "[1, 3, 5, 7, 9, 13, 15, 17, 19]\n",
      "\n",
      "[1, 3, 5, 9, 13, 15, 17, 19]\n",
      "[1, 3, 5, 9, 13, 17, 19]\n"
     ]
    }
   ],
   "source": [
    "# append, insert, pop, remove\n",
    "\n",
    "lst_a.append(21)\n",
    "print(lst_a)\n",
    "lst_a.append(23)\n",
    "print(lst_a)\n",
    "lst_a.insert(0, -1)\n",
    "print(lst_a)\n",
    "lst_a.insert(5, 100)\n",
    "print(lst_a, end='\\n\\n')\n",
    "\n",
    "lst_a.pop()\n",
    "print(lst_a)\n",
    "lst_a.pop()\n",
    "print(lst_a)\n",
    "lst_a.pop(0) # not recommend (low efficiency)\n",
    "print(lst_a, end='\\n\\n')\n",
    "\n",
    "lst_a.remove(100) # remove one element from the list\n",
    "print(lst_a)\n",
    "lst_a.remove(11) # remove one element from the list\n",
    "print(lst_a, end='\\n\\n')\n",
    "# lst_a.remove(105) # gets a `ValueError` as the element `105` is not available, \n",
    "\n",
    "del lst_a[3] # delete the third element in the list\n",
    "print(lst_a)\n",
    "del lst_a[5] # delete the third element in the list\n",
    "print(lst_a)\n",
    "# del lst_a[10] # IndexError: list assignment index out of range\n"
   ]
  },
  {
   "cell_type": "code",
   "execution_count": 7,
   "id": "4463dafa",
   "metadata": {},
   "outputs": [
    {
     "name": "stdout",
     "output_type": "stream",
     "text": [
      "[1, 3, 5, 9, 13, 17, 19, [25, 27, 29]]\n",
      "\n",
      "[1, 3, 5, 7, 9]  xxxxx [10, 12, 14, 16, 18]\n",
      "[1, 3, 5, 7, 9, 10, 12, 14, 16, 18]\n",
      "\n",
      "[1, 3, 5, 7, 9, 10, 12, 14, 16, 18, 10, 12, 14, 16, 18]\n",
      "[1, 3, 5, 7, 9, 10, 12, 14, 16, 18, 10, 12, 14, 16, 18, [10, 12, 14, 16, 18]]\n"
     ]
    }
   ],
   "source": [
    "lst_a.append([25, 27, 29]) # now lst_a is a nested list\n",
    "print(lst_a, end='\\n\\n')\n",
    "\n",
    "lst_a = [x for x in range(10) if x%2 == 1]\n",
    "lst_b = [x for x in range(10, 20) if x%2 == 0]\n",
    "print(lst_a, lst_b, sep='  xxxxx ')\n",
    "lst_c = lst_a + lst_b\n",
    "print(lst_c, end='\\n\\n')\n",
    "\n",
    "# list.extend(list) vs list.append(list) vs list.append(item)\n",
    "lst_c.extend(lst_b) # now lst_c is a list\n",
    "print(lst_c)\n",
    "lst_c.append(lst_b) # now lst_c is a nested list\n",
    "print(lst_c)"
   ]
  },
  {
   "cell_type": "markdown",
   "id": "fd2b2857",
   "metadata": {},
   "source": [
    "### indexing is similar to that for strings"
   ]
  },
  {
   "cell_type": "code",
   "execution_count": 8,
   "id": "e8fba0e2",
   "metadata": {},
   "outputs": [
    {
     "name": "stdout",
     "output_type": "stream",
     "text": [
      "[0, 1, 2, 3, 6, 7, 8, 9]\n",
      "\n",
      "[0, 1, 2, 3, 6, 7, 8, 9]\n",
      "[2, 0, 9, 1, 6, 3, 8, 7]\n"
     ]
    }
   ],
   "source": [
    "# sorting lists\n",
    "\n",
    "lst_a = [2, 0, 9, 1, 6, 3, 8, 7]\n",
    "lst_a.sort()\n",
    "print(lst_a, end='\\n\\n')\n",
    "\n",
    "lst_a = [2, 0, 9, 1, 6, 3, 8, 7]\n",
    "lst_b = sorted(lst_a)\n",
    "print(lst_b)\n",
    "print(lst_a)"
   ]
  },
  {
   "cell_type": "code",
   "execution_count": 9,
   "id": "145576a9",
   "metadata": {},
   "outputs": [
    {
     "name": "stdout",
     "output_type": "stream",
     "text": [
      "[7, 8, 3, 6, 1, 9, 0, 2]\n",
      "[2, 0, 9, 1, 6, 3, 8, 7]\n"
     ]
    }
   ],
   "source": [
    "lst_a = [2, 0, 9, 1, 6, 3, 8, 7]\n",
    "lst_a.reverse()\n",
    "print(lst_a)\n",
    "lst_a.reverse()\n",
    "print(lst_a)"
   ]
  },
  {
   "cell_type": "code",
   "execution_count": 10,
   "id": "77da75b9",
   "metadata": {},
   "outputs": [
    {
     "name": "stdout",
     "output_type": "stream",
     "text": [
      "ID of lst_a =  4617786752\n",
      "ID of lst_b =  4617786752\n",
      "ID of lst_c =  4617786816\n",
      "\n",
      "After append 9, lst_a = [1, 5, [7, 11], 9]\n",
      "After append 9, lst_b = [1, 5, [7, 11], 9]\n",
      "After append 9, lst_c = [1, 5, [7, 11]]\n",
      "\n",
      "After append 13 in sublist, lst_a = [1, 5, [7, 11, 13], 9]\n",
      "After append 13 in sublist, lst_b = [1, 5, [7, 11, 13], 9]\n",
      "After append 13 in sublist, lst_c = [1, 5, [7, 11, 13]]\n"
     ]
    }
   ],
   "source": [
    "# shallow copy vs deep copy\n",
    "\n",
    "lst_a = [1, 5, [7, 11]]\n",
    "lst_b = lst_a\n",
    "lst_c = lst_a[:]\n",
    "print(\"ID of lst_a = \", id(lst_a)) # `id()` to get the physical address in the memory\n",
    "print(\"ID of lst_b = \", id(lst_b))\n",
    "print(\"ID of lst_c = \", id(lst_c))\n",
    "print()\n",
    "\n",
    "lst_a.append(9)\n",
    "print(\"After append 9, lst_a =\", lst_a)\n",
    "print(\"After append 9, lst_b =\", lst_b)\n",
    "print(\"After append 9, lst_c =\", lst_c)\n",
    "print()\n",
    "\n",
    "lst_a[2].append(13)\n",
    "print(\"After append 13 in sublist, lst_a =\", lst_a)\n",
    "print(\"After append 13 in sublist, lst_b =\", lst_b)\n",
    "print(\"After append 13 in sublist, lst_c =\", lst_c)\n"
   ]
  },
  {
   "cell_type": "markdown",
   "id": "c4335abd",
   "metadata": {},
   "source": [
    "# Introduction to Python --- Tuple"
   ]
  },
  {
   "cell_type": "code",
   "execution_count": 11,
   "id": "99c51f0a",
   "metadata": {},
   "outputs": [
    {
     "name": "stdout",
     "output_type": "stream",
     "text": [
      "<class 'tuple'>\n"
     ]
    }
   ],
   "source": [
    "tuple_a = () # this is an empty tuple\n",
    "print(type(tuple_a))"
   ]
  },
  {
   "cell_type": "code",
   "execution_count": 12,
   "id": "383f4626",
   "metadata": {},
   "outputs": [
    {
     "name": "stdout",
     "output_type": "stream",
     "text": [
      "<class 'tuple'>\n",
      "<class 'tuple'>\n"
     ]
    }
   ],
   "source": [
    "tuple_a = ('a', 2, 3.14, \"hello\")\n",
    "print(type(tuple_a))\n",
    "tuple_b = 'a', 2, 3.14, \"hello\"\n",
    "print(type(tuple_b))"
   ]
  },
  {
   "cell_type": "code",
   "execution_count": 13,
   "id": "dc02aa4d",
   "metadata": {},
   "outputs": [
    {
     "name": "stdout",
     "output_type": "stream",
     "text": [
      "<class 'int'>\n",
      "<class 'tuple'>\n"
     ]
    }
   ],
   "source": [
    "tuple_a = (2)  # this is an integer, not a tuple\n",
    "tuple_b = (2,) # if there is only one element in the tuple, you should use a `,` after the element\n",
    "print(type(tuple_a))\n",
    "print(type(tuple_b))"
   ]
  },
  {
   "cell_type": "code",
   "execution_count": 14,
   "id": "13510564",
   "metadata": {},
   "outputs": [
    {
     "name": "stdout",
     "output_type": "stream",
     "text": [
      "69\n",
      "(23, 23, 23)\n"
     ]
    }
   ],
   "source": [
    "print(3*(11+12))  # this is a simple arithmetic calculation\n",
    "print(3*(11+12,)) # this is to create a tuple consisting of three elements"
   ]
  },
  {
   "cell_type": "code",
   "execution_count": 15,
   "id": "a88b8054",
   "metadata": {},
   "outputs": [
    {
     "name": "stdout",
     "output_type": "stream",
     "text": [
      "(1, 2, 3, 4, 5)\n",
      "<class 'tuple'>\n",
      "\n",
      "('h', 'e', 'l', 'l', 'o', ',', ' ', 'p', 'y', 't', 'h', 'o', 'n', '!')\n",
      "<class 'tuple'>\n"
     ]
    }
   ],
   "source": [
    "# the build-in function `tuple()` can transform lists and strings to a tuple\n",
    "\n",
    "lst = [1,2,3,4,5]\n",
    "tuple_lst = tuple(lst)\n",
    "print(tuple_lst)\n",
    "print(type(tuple_lst), end='\\n\\n')\n",
    "\n",
    "string = \"hello, python!\"\n",
    "tuple_string = tuple(string)\n",
    "print(tuple_string)\n",
    "print(type(tuple_string))"
   ]
  },
  {
   "cell_type": "code",
   "execution_count": 16,
   "id": "aba6c3e7",
   "metadata": {},
   "outputs": [
    {
     "name": "stdout",
     "output_type": "stream",
     "text": [
      "([1, 2, 3], [4, 5, 6])\n",
      "([1, 2, 3, 4, 5, 6], (7, 8, 9))\n"
     ]
    }
   ],
   "source": [
    "# nested structures\n",
    "\n",
    "lst_a = [1,2,3]; lst_b = [4,5,6]\n",
    "tuple_a = lst_a, lst_b\n",
    "print(tuple_a)\n",
    "\n",
    "tuple_b = 7,8,9\n",
    "tuple_c = lst_a + lst_b, tuple_b\n",
    "print(tuple_c)"
   ]
  },
  {
   "cell_type": "markdown",
   "id": "e79a66ff",
   "metadata": {},
   "source": [
    "## List vs Tuple"
   ]
  },
  {
   "cell_type": "code",
   "execution_count": 17,
   "id": "f9291b69",
   "metadata": {},
   "outputs": [
    {
     "name": "stdout",
     "output_type": "stream",
     "text": [
      "6\n",
      "(1, 4, 11, 7, 8, 9)\n",
      "4589287744  xxx  4589277760\n"
     ]
    }
   ],
   "source": [
    "# tuple is immutable, list is mutable (`append`, `remove`, `del`, `pop`, `insert`, etc.)\n",
    "\n",
    "tuple_a = (1,4,6,7,8,9)\n",
    "print(tuple_a[2])\n",
    "# tuple_a[2] = 11 # TypeError: 'tuple' object does not support item assignment\n",
    "\n",
    "# if you want to place one elemnt in the tuple with a new one, you can use `tuple -> list -> tuple`\n",
    "lst_tuple = list(tuple_a)\n",
    "lst_tuple[2] = 11\n",
    "tuple_b = tuple(lst_tuple)\n",
    "print(tuple_b)\n",
    "\n",
    "# check the physical address for these two tuples\n",
    "print(id(tuple_a), id(tuple_b), sep='  xxx  ')"
   ]
  },
  {
   "cell_type": "code",
   "execution_count": 18,
   "id": "fb967952",
   "metadata": {},
   "outputs": [
    {
     "name": "stdout",
     "output_type": "stream",
     "text": [
      "(1, 2.3, 'a', [4, 7, 9, 'b'], 'hello python')\n",
      "[4, 7, 9, 'b']\n",
      "(1, 2.3, 'a', [4, 7, 9], 'hello python')\n",
      "(1, 2.3, 'a', [4, 'hello, C', 7, 9], 'hello python')\n"
     ]
    }
   ],
   "source": [
    "# you cannot change/remove/add elements in the tuple,\n",
    "#    but if there is a mutable item (such as a list) in the tuple, you can change/add/remove lelements in the list\n",
    "tuple_a = (1, 2.3, 'a', [4, 7, 9, 'b'], \"hello python\")\n",
    "print(tuple_a)\n",
    "print(tuple_a[3])\n",
    "tuple_a[3].pop()\n",
    "print(tuple_a)\n",
    "tuple_a[3].insert(1, \"hello, C\")\n",
    "print(tuple_a)"
   ]
  },
  {
   "cell_type": "code",
   "execution_count": 19,
   "id": "20e2fa94",
   "metadata": {},
   "outputs": [
    {
     "name": "stdout",
     "output_type": "stream",
     "text": [
      "800000056\n",
      "800000040\n",
      "<class 'range'> 48\n",
      "\n",
      "0.023529917001724243\n",
      "0.005025874997954816\n"
     ]
    }
   ],
   "source": [
    "# check the memory usage using the `getsizeof` function in the `sys` module\n",
    "\n",
    "import sys\n",
    "lst_a = list(range(100000000))\n",
    "tuple_a = tuple(range(100000000))\n",
    "range_obj = range(100000000) # this is `range` object\n",
    "print(sys.getsizeof(lst_a))\n",
    "print(sys.getsizeof(tuple_a))\n",
    "print(type(range_obj), sys.getsizeof(range_obj), end='\\n\\n')\n",
    "\n",
    "# check their efficieies using the `timeit` function in the `timeit` module\n",
    "import timeit\n",
    "print(timeit.timeit('[1, 2, 3, 4, 5, 6, 7, 8, 9]'))\n",
    "print(timeit.timeit('(1, 2, 3, 4, 5, 6, 7, 8, 9)'))"
   ]
  },
  {
   "cell_type": "code",
   "execution_count": 20,
   "id": "f14b270b",
   "metadata": {},
   "outputs": [
    {
     "name": "stdout",
     "output_type": "stream",
     "text": [
      "(0, 1, 2, 3, 4, 5, 6, 7)\n",
      "(1, 2, 3, 6, 7)\n",
      "(2, 3, 4, 7)\n",
      "\n",
      "7 <class 'int'>\n",
      "(7,) <class 'tuple'>\n"
     ]
    }
   ],
   "source": [
    "tuple_a = tuple(range(8))\n",
    "print(tuple_a)\n",
    "tuple_b = tuple_a[1:4] + tuple_a[6:9]\n",
    "print(tuple_b)\n",
    "\n",
    "# tuple_c = tuple_a[2:5] + tuple_a[7] # gets an error as `tuple_a[7]` is not a tuple\n",
    "tuple_c = tuple_a[2:5]\n",
    "tuple_c += tuple_a[7],\n",
    "print(tuple_c, end='\\n\\n')\n",
    "\n",
    "# `tuple_a[7]` is an element in the tuple, and `tuple_a[7],` is a tuple even there in only one element in this tuple\n",
    "temp_a = tuple_a[7]\n",
    "temp_b = tuple_a[7],\n",
    "print(temp_a, type(temp_a))\n",
    "print(temp_b, type(temp_b))"
   ]
  },
  {
   "cell_type": "markdown",
   "id": "d46b42e4",
   "metadata": {},
   "source": [
    "## packing and unpacking"
   ]
  },
  {
   "cell_type": "code",
   "execution_count": 21,
   "id": "4ca1682b",
   "metadata": {},
   "outputs": [
    {
     "name": "stdout",
     "output_type": "stream",
     "text": [
      "23 11\n"
     ]
    }
   ],
   "source": [
    "# swap the value of two variables\n",
    "\n",
    "a = 11\n",
    "b = 23\n",
    "a, b = b, a # a full expression is (a, b) = (b, a)\n",
    "print(a, b)"
   ]
  },
  {
   "cell_type": "code",
   "execution_count": 22,
   "id": "6aa9fd05",
   "metadata": {},
   "outputs": [
    {
     "name": "stdout",
     "output_type": "stream",
     "text": [
      "2023 python bootcamp\n",
      "\n",
      "2023 python bootcamp\n"
     ]
    }
   ],
   "source": [
    "year_a = 2023\n",
    "lang_a = 'python'\n",
    "proj_a = 'bootcamp'\n",
    "info = year_a, lang_a, proj_a # this is packing\n",
    "print(info[0], info[1], info[2], end='\\n\\n')\n",
    "\n",
    "year_b, lang_b, proj_b = info # this is unpacking\n",
    "print(year_b, lang_b, proj_b)\n",
    "\n",
    "# year_b, lang_b, proj_b, temp_a = info # ValueError: not enough values to unpack (expected 4, got 3)\n",
    "# year_b, lang_b = info                 # ValueError: too many values to unpack (expected 2)"
   ]
  },
  {
   "cell_type": "code",
   "execution_count": 23,
   "id": "7ebfc548",
   "metadata": {},
   "outputs": [
    {
     "name": "stdout",
     "output_type": "stream",
     "text": [
      "1 10 [100, 1000]\n",
      "1 [10, 100] 1000\n",
      "[1, 10] 100 1000\n",
      "\n",
      "1 [10, 100, 1000]\n",
      "[1, 10, 100] 1000\n",
      "\n",
      "1 10 100 [1000]\n",
      "\n",
      "<class 'int'> <class 'int'> <class 'int'> <class 'list'>\n",
      "1 10 100 1000 []\n",
      "<class 'int'> <class 'list'>\n"
     ]
    }
   ],
   "source": [
    "# a solution for this `ValueError` is to use `*` during unpacking\n",
    "\n",
    "tuple_a = 1, 10, 100, 1000\n",
    "\n",
    "i, j, *k = tuple_a\n",
    "print(i, j, k)\n",
    "\n",
    "i, *j, k = tuple_a\n",
    "print(i, j, k)\n",
    "\n",
    "*i, j, k = tuple_a\n",
    "print(i, j, k, end='\\n\\n')\n",
    "\n",
    "i, *j = tuple_a\n",
    "print(i, j)\n",
    "\n",
    "*i, j = tuple_a\n",
    "print(i, j, end='\\n\\n')\n",
    "\n",
    "i, j, k, *l = tuple_a\n",
    "print(i, j, k, l, end='\\n\\n')\n",
    "print(type(i), type(j), type(k), type(l)) # i, j, k are integers, and l is a list containing one element\n",
    "\n",
    "i, j, k, l, *m = tuple_a\n",
    "print(i, j, k, l, m)\n",
    "print(type(l), type(m)) # l is an integer, and m is an empty list"
   ]
  },
  {
   "cell_type": "code",
   "execution_count": 24,
   "id": "3e777252",
   "metadata": {},
   "outputs": [
    {
     "data": {
      "text/plain": [
       "['__add__',\n",
       " '__class__',\n",
       " '__class_getitem__',\n",
       " '__contains__',\n",
       " '__delattr__',\n",
       " '__dir__',\n",
       " '__doc__',\n",
       " '__eq__',\n",
       " '__format__',\n",
       " '__ge__',\n",
       " '__getattribute__',\n",
       " '__getitem__',\n",
       " '__getnewargs__',\n",
       " '__gt__',\n",
       " '__hash__',\n",
       " '__init__',\n",
       " '__init_subclass__',\n",
       " '__iter__',\n",
       " '__le__',\n",
       " '__len__',\n",
       " '__lt__',\n",
       " '__mul__',\n",
       " '__ne__',\n",
       " '__new__',\n",
       " '__reduce__',\n",
       " '__reduce_ex__',\n",
       " '__repr__',\n",
       " '__rmul__',\n",
       " '__setattr__',\n",
       " '__sizeof__',\n",
       " '__str__',\n",
       " '__subclasshook__',\n",
       " 'count',\n",
       " 'index']"
      ]
     },
     "execution_count": 24,
     "metadata": {},
     "output_type": "execute_result"
    }
   ],
   "source": [
    "# using `dir()` to get all available methods\n",
    "dir(tuple) # for tuple, it only has two methods, `count` and `index`"
   ]
  },
  {
   "cell_type": "code",
   "execution_count": null,
   "id": "e2751489",
   "metadata": {},
   "outputs": [],
   "source": []
  }
 ],
 "metadata": {
  "kernelspec": {
   "display_name": "Python 3 (ipykernel)",
   "language": "python",
   "name": "python3"
  },
  "language_info": {
   "codemirror_mode": {
    "name": "ipython",
    "version": 3
   },
   "file_extension": ".py",
   "mimetype": "text/x-python",
   "name": "python",
   "nbconvert_exporter": "python",
   "pygments_lexer": "ipython3",
   "version": "3.10.9"
  }
 },
 "nbformat": 4,
 "nbformat_minor": 5
}
